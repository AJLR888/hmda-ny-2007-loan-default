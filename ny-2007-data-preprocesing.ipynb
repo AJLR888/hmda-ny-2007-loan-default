{
  "nbformat": 4,
  "nbformat_minor": 0,
  "metadata": {
    "colab": {
      "provenance": [],
      "collapsed_sections": [
        "6GOsA9_l-G6n",
        "JP4CbltfLxGN",
        "Q2rPGOraKIfs",
        "iDwfgvY3SfwR",
        "LnVi5W_zMvUS",
        "YqzKhpgpaCzF",
        "i5-0VTy_pFwb"
      ],
      "authorship_tag": "ABX9TyPQcEUdblBmpsmxMQEzAKHq",
      "include_colab_link": true
    },
    "kernelspec": {
      "name": "python3",
      "display_name": "Python 3"
    },
    "language_info": {
      "name": "python"
    }
  },
  "cells": [
    {
      "cell_type": "markdown",
      "metadata": {
        "id": "view-in-github",
        "colab_type": "text"
      },
      "source": [
        "<a href=\"https://colab.research.google.com/github/AJLR888/hmda-ny-2007-loan-default/blob/main/ny-2007-data-preprocesing.ipynb\" target=\"_parent\"><img src=\"https://colab.research.google.com/assets/colab-badge.svg\" alt=\"Open In Colab\"/></a>"
      ]
    },
    {
      "cell_type": "markdown",
      "source": [
        "# Defining settings"
      ],
      "metadata": {
        "id": "pTVcDhMaXEdL"
      }
    },
    {
      "cell_type": "code",
      "source": [
        "# Mount google drive\n",
        "from google.colab import drive\n",
        "drive.mount('/content/drive')"
      ],
      "metadata": {
        "colab": {
          "base_uri": "https://localhost:8080/"
        },
        "id": "Uj-fKp-7WPDW",
        "outputId": "478a4d9f-dfde-4bad-b0cc-e4be436f7734"
      },
      "execution_count": 1,
      "outputs": [
        {
          "output_type": "stream",
          "name": "stdout",
          "text": [
            "Mounted at /content/drive\n"
          ]
        }
      ]
    },
    {
      "cell_type": "code",
      "source": [
        "# Setting up GitHub\n",
        "import os\n",
        "import subprocess\n",
        "from getpass import getpass #Secure token storage\n",
        "\n",
        "# Importing working space\n",
        "import pandas as pd\n",
        "import numpy as np\n",
        "import matplotlib.pyplot as plt\n",
        "import seaborn as sns"
      ],
      "metadata": {
        "id": "1zI-rABvJCdu"
      },
      "execution_count": null,
      "outputs": []
    },
    {
      "cell_type": "code",
      "source": [
        "#!git init #is for Google Colab environment, we should use \"subprocess.run([\"git\", \"init\"])\" which is more in line with PEP 8 doc. Style.\n",
        "#We only use once \"git init\", when starting a new project. The purpose of this code is to create things related to the project in a .git directory in the project folder.\n",
        "#subprocess.run([\"git\", \"init\"])\n"
      ],
      "metadata": {
        "colab": {
          "base_uri": "https://localhost:8080/"
        },
        "id": "4Eh9TF6RI-4h",
        "outputId": "a1b8c5f7-c624-4262-f552-1df95a854460"
      },
      "execution_count": 36,
      "outputs": [
        {
          "output_type": "stream",
          "name": "stdout",
          "text": [
            "Reinitialized existing Git repository in /content/drive/MyDrive/Colab Notebooks/hmda_ny_2007_preprocessing/.git/\n"
          ]
        }
      ]
    },
    {
      "cell_type": "code",
      "source": [
        "# Username and email:\n",
        "subprocess.run([\"git\", \"config\", \"--global\", \"user.name\", \"AJLR888\"], check=True)\n",
        "subprocess.run([\"git\", \"config\", \"--global\", \"user.email\", \"roldan.analytics@gmail.com\"], check=True)\n",
        "\n",
        "\n",
        "# Storing GitHub token and repository details\n",
        "GITHUB_TOKEN = getpass(\"Enter GitHub Token:\")\n",
        "REPO_OWNER = \"AJLR888\"\n",
        "REPO_NAME = \"hmda-ny-2007-loan-default\"\n",
        "BRANCH_NAME = \"main\"\n",
        "\n",
        "#Setting GitHub remot URL with authentcation\n",
        "GIT_REMOTE_URL = f\"https://{GITHUB_TOKEN}@github.com/{REPO_OWNER}/{REPO_NAME}.git\"\n",
        "os.system(f\"git remote set-url origin {GIT_REMOTE_URL}\")"
      ],
      "metadata": {
        "colab": {
          "base_uri": "https://localhost:8080/"
        },
        "id": "8iiY3fSmGPL2",
        "outputId": "d2ae7f99-1e1f-49e2-eaf3-e98884500b0e"
      },
      "execution_count": 2,
      "outputs": [
        {
          "name": "stdout",
          "output_type": "stream",
          "text": [
            "Enter GitHub Token:··········\n"
          ]
        },
        {
          "output_type": "execute_result",
          "data": {
            "text/plain": [
              "32768"
            ]
          },
          "metadata": {},
          "execution_count": 2
        }
      ]
    },
    {
      "cell_type": "markdown",
      "source": [
        "# Setting up GitHub\n",
        "import os\n",
        "import subprocess\n",
        "from getpass import getpass #Secure token storage\n",
        "\n",
        "# Username and email:\n",
        "# Username and email:\n",
        "subprocess.run([\"git\", \"config\", \"--global\", \"user.name\", \"AJLR888\"], check=True)\n",
        "subprocess.run([\"git\", \"config\", \"--global\", \"user.email\", \"roldan.analytics@gmail.com\"], check=True)\n",
        "\n",
        "\n",
        "# Storing GitHub token and repository details\n",
        "GITHUB_TOKEN = getpass(\"Enter GitHub Token:\")\n",
        "REPO_OWNER = \"AJLR888\"\n",
        "REPO_NAME = \"hmda-ny-2007-loan-default\"\n",
        "BRANCH_NAME = \"main\"\n",
        "\n",
        "#Setting GitHub remot URL with authentcation\n",
        "GIT_REMOTE_URL = f\"https://{GITHUB_TOKEN}@github.com/{REPO_OWNER}/{REPO_NAME}.git\"\n",
        "os.system(f\"git remote set-url origin {GIT_REMOTE_URL}\")"
      ],
      "metadata": {
        "id": "6GOsA9_l-G6n"
      }
    },
    {
      "cell_type": "code",
      "execution_count": 3,
      "metadata": {
        "id": "OmZz3I9Q8CJl"
      },
      "outputs": [],
      "source": []
    },
    {
      "cell_type": "markdown",
      "source": [
        "# EDA"
      ],
      "metadata": {
        "id": "JP4CbltfLxGN"
      }
    },
    {
      "cell_type": "code",
      "source": [
        "df = pd.read_csv('/content/drive/My Drive/Colab Notebooks/hmda_2007_ny_all-records_labels.csv')\n",
        "\n",
        "df = pd.DataFrame(df)\n"
      ],
      "metadata": {
        "colab": {
          "base_uri": "https://localhost:8080/"
        },
        "id": "He3YZitST0uy",
        "outputId": "6d6b0303-67e2-450a-bd92-7ce3368760aa"
      },
      "execution_count": 4,
      "outputs": [
        {
          "output_type": "stream",
          "name": "stderr",
          "text": [
            "<ipython-input-4-7614b30a662a>:1: DtypeWarning: Columns (34,36,38,42,44,46,48) have mixed types. Specify dtype option on import or set low_memory=False.\n",
            "  df = pd.read_csv('/content/drive/My Drive/Colab Notebooks/hmda_2007_ny_all-records_labels.csv')\n"
          ]
        }
      ]
    },
    {
      "cell_type": "markdown",
      "source": [
        "## Sample"
      ],
      "metadata": {
        "id": "Q2rPGOraKIfs"
      }
    },
    {
      "cell_type": "code",
      "source": [
        "df_sample = df.sample(n=12000, random_state=42)\n",
        "\n",
        "print(df.shape, '\\n')\n"
      ],
      "metadata": {
        "colab": {
          "base_uri": "https://localhost:8080/"
        },
        "id": "obZOZuwYIA0E",
        "outputId": "bd0ae249-d70b-42ac-e54c-eea7ea61492c"
      },
      "execution_count": 5,
      "outputs": [
        {
          "output_type": "stream",
          "name": "stdout",
          "text": [
            "(1009451, 78) \n",
            "\n"
          ]
        }
      ]
    },
    {
      "cell_type": "code",
      "source": [
        "pd.set_option('display.max_rows', None)\n",
        "\n",
        "print(df_sample.isnull().sum())"
      ],
      "metadata": {
        "id": "k1ULQNl68Zgv",
        "colab": {
          "base_uri": "https://localhost:8080/"
        },
        "outputId": "fe194ac0-f554-4145-b901-eebfce2cc3b5"
      },
      "execution_count": 6,
      "outputs": [
        {
          "output_type": "stream",
          "name": "stdout",
          "text": [
            "as_of_year                            0\n",
            "respondent_id                         0\n",
            "agency_name                           0\n",
            "agency_abbr                           0\n",
            "agency_code                           0\n",
            "loan_type_name                        0\n",
            "loan_type                             0\n",
            "property_type_name                    0\n",
            "property_type                         0\n",
            "loan_purpose_name                     0\n",
            "loan_purpose                          0\n",
            "owner_occupancy_name                  0\n",
            "owner_occupancy                       0\n",
            "loan_amount_000s                      0\n",
            "preapproval_name                      0\n",
            "preapproval                           0\n",
            "action_taken_name                     0\n",
            "action_taken                          0\n",
            "msamd_name                         1087\n",
            "msamd                              1087\n",
            "state_name                            0\n",
            "state_abbr                            0\n",
            "state_code                            0\n",
            "county_name                          11\n",
            "county_code                          11\n",
            "census_tract_number                  15\n",
            "applicant_ethnicity_name              0\n",
            "applicant_ethnicity                   0\n",
            "co_applicant_ethnicity_name           0\n",
            "co_applicant_ethnicity                0\n",
            "applicant_race_name_1                 0\n",
            "applicant_race_1                      0\n",
            "applicant_race_name_2             11965\n",
            "applicant_race_2                  11965\n",
            "applicant_race_name_3             11999\n",
            "applicant_race_3                  11999\n",
            "applicant_race_name_4             12000\n",
            "applicant_race_4                  12000\n",
            "applicant_race_name_5             12000\n",
            "applicant_race_5                  12000\n",
            "co_applicant_race_name_1              0\n",
            "co_applicant_race_1                   0\n",
            "co_applicant_race_name_2          11989\n",
            "co_applicant_race_2               11989\n",
            "co_applicant_race_name_3          12000\n",
            "co_applicant_race_3               12000\n",
            "co_applicant_race_name_4          11999\n",
            "co_applicant_race_4               11999\n",
            "co_applicant_race_name_5          12000\n",
            "co_applicant_race_5               12000\n",
            "applicant_sex_name                    0\n",
            "applicant_sex                         0\n",
            "co_applicant_sex_name                 0\n",
            "co_applicant_sex                      0\n",
            "applicant_income_000s              1078\n",
            "purchaser_type_name                   0\n",
            "purchaser_type                        0\n",
            "denial_reason_name_1               9938\n",
            "denial_reason_1                    9938\n",
            "denial_reason_name_2              11581\n",
            "denial_reason_2                   11581\n",
            "denial_reason_name_3              11907\n",
            "denial_reason_3                   11907\n",
            "rate_spread                       11155\n",
            "hoepa_status_name                     0\n",
            "hoepa_status                          0\n",
            "lien_status_name                      0\n",
            "lien_status                           0\n",
            "edit_status_name                   9633\n",
            "edit_status                        9633\n",
            "sequence_number                       0\n",
            "population                           18\n",
            "minority_population                  18\n",
            "hud_median_family_income             18\n",
            "tract_to_msamd_income                21\n",
            "number_of_owner_occupied_units       32\n",
            "number_of_1_to_4_family_units        43\n",
            "application_date_indicator            0\n",
            "dtype: int64\n"
          ]
        }
      ]
    },
    {
      "cell_type": "code",
      "source": [
        "print(df_sample.dtypes)"
      ],
      "metadata": {
        "colab": {
          "base_uri": "https://localhost:8080/"
        },
        "id": "VWon2f5uKORp",
        "outputId": "978d4463-85e1-43d1-a485-412f0d0c394a"
      },
      "execution_count": 7,
      "outputs": [
        {
          "output_type": "stream",
          "name": "stdout",
          "text": [
            "as_of_year                          int64\n",
            "respondent_id                      object\n",
            "agency_name                        object\n",
            "agency_abbr                        object\n",
            "agency_code                         int64\n",
            "loan_type_name                     object\n",
            "loan_type                           int64\n",
            "property_type_name                 object\n",
            "property_type                       int64\n",
            "loan_purpose_name                  object\n",
            "loan_purpose                        int64\n",
            "owner_occupancy_name               object\n",
            "owner_occupancy                     int64\n",
            "loan_amount_000s                    int64\n",
            "preapproval_name                   object\n",
            "preapproval                         int64\n",
            "action_taken_name                  object\n",
            "action_taken                        int64\n",
            "msamd_name                         object\n",
            "msamd                             float64\n",
            "state_name                         object\n",
            "state_abbr                         object\n",
            "state_code                          int64\n",
            "county_name                        object\n",
            "county_code                       float64\n",
            "census_tract_number               float64\n",
            "applicant_ethnicity_name           object\n",
            "applicant_ethnicity                 int64\n",
            "co_applicant_ethnicity_name        object\n",
            "co_applicant_ethnicity              int64\n",
            "applicant_race_name_1              object\n",
            "applicant_race_1                    int64\n",
            "applicant_race_name_2              object\n",
            "applicant_race_2                  float64\n",
            "applicant_race_name_3              object\n",
            "applicant_race_3                  float64\n",
            "applicant_race_name_4              object\n",
            "applicant_race_4                  float64\n",
            "applicant_race_name_5              object\n",
            "applicant_race_5                  float64\n",
            "co_applicant_race_name_1           object\n",
            "co_applicant_race_1                 int64\n",
            "co_applicant_race_name_2           object\n",
            "co_applicant_race_2               float64\n",
            "co_applicant_race_name_3           object\n",
            "co_applicant_race_3               float64\n",
            "co_applicant_race_name_4           object\n",
            "co_applicant_race_4               float64\n",
            "co_applicant_race_name_5           object\n",
            "co_applicant_race_5               float64\n",
            "applicant_sex_name                 object\n",
            "applicant_sex                       int64\n",
            "co_applicant_sex_name              object\n",
            "co_applicant_sex                    int64\n",
            "applicant_income_000s             float64\n",
            "purchaser_type_name                object\n",
            "purchaser_type                      int64\n",
            "denial_reason_name_1               object\n",
            "denial_reason_1                   float64\n",
            "denial_reason_name_2               object\n",
            "denial_reason_2                   float64\n",
            "denial_reason_name_3               object\n",
            "denial_reason_3                   float64\n",
            "rate_spread                       float64\n",
            "hoepa_status_name                  object\n",
            "hoepa_status                        int64\n",
            "lien_status_name                   object\n",
            "lien_status                         int64\n",
            "edit_status_name                   object\n",
            "edit_status                       float64\n",
            "sequence_number                     int64\n",
            "population                        float64\n",
            "minority_population               float64\n",
            "hud_median_family_income          float64\n",
            "tract_to_msamd_income             float64\n",
            "number_of_owner_occupied_units    float64\n",
            "number_of_1_to_4_family_units     float64\n",
            "application_date_indicator          int64\n",
            "dtype: object\n"
          ]
        }
      ]
    },
    {
      "cell_type": "code",
      "source": [
        "pd.set_option('display.max_columns', None)\n",
        "print(df_sample.head(5))"
      ],
      "metadata": {
        "colab": {
          "base_uri": "https://localhost:8080/"
        },
        "id": "aJ6JqMC0LV9R",
        "outputId": "abe85ed8-e25c-42ec-a393-9382aff4d9e0"
      },
      "execution_count": 8,
      "outputs": [
        {
          "output_type": "stream",
          "name": "stdout",
          "text": [
            "        as_of_year respondent_id                                  agency_name  \\\n",
            "400869        2007    0000018039                 Office of Thrift Supervision   \n",
            "25128         2007    0000501105                       Federal Reserve System   \n",
            "73622         2007    0001881185                       Federal Reserve System   \n",
            "637936        2007    4216200005  Department of Housing and Urban Development   \n",
            "570628        2007    56-0811711    Office of the Comptroller of the Currency   \n",
            "\n",
            "       agency_abbr  agency_code loan_type_name  loan_type  \\\n",
            "400869         OTS            4   Conventional          1   \n",
            "25128          FRS            2   Conventional          1   \n",
            "73622          FRS            2   Conventional          1   \n",
            "637936         HUD            7   Conventional          1   \n",
            "570628         OCC            1   Conventional          1   \n",
            "\n",
            "                                       property_type_name  property_type  \\\n",
            "400869  One-to-four family dwelling (other than manufa...              1   \n",
            "25128   One-to-four family dwelling (other than manufa...              1   \n",
            "73622   One-to-four family dwelling (other than manufa...              1   \n",
            "637936  One-to-four family dwelling (other than manufa...              1   \n",
            "570628  One-to-four family dwelling (other than manufa...              1   \n",
            "\n",
            "       loan_purpose_name  loan_purpose  \\\n",
            "400869     Home purchase             1   \n",
            "25128      Home purchase             1   \n",
            "73622        Refinancing             3   \n",
            "637936       Refinancing             3   \n",
            "570628       Refinancing             3   \n",
            "\n",
            "                              owner_occupancy_name  owner_occupancy  \\\n",
            "400869      Owner-occupied as a principal dwelling                1   \n",
            "25128       Owner-occupied as a principal dwelling                1   \n",
            "73622       Owner-occupied as a principal dwelling                1   \n",
            "637936  Not owner-occupied as a principal dwelling                2   \n",
            "570628      Owner-occupied as a principal dwelling                1   \n",
            "\n",
            "        loan_amount_000s               preapproval_name  preapproval  \\\n",
            "400869               114                 Not applicable            3   \n",
            "25128                 53  Preapproval was not requested            2   \n",
            "73622                 76                 Not applicable            3   \n",
            "637936               280                 Not applicable            3   \n",
            "570628               308                 Not applicable            3   \n",
            "\n",
            "                                  action_taken_name  action_taken  \\\n",
            "400869                              Loan originated             1   \n",
            "25128                               Loan originated             1   \n",
            "73622   Application denied by financial institution             3   \n",
            "637936        Application approved but not accepted             2   \n",
            "570628                              Loan originated             1   \n",
            "\n",
            "                                     msamd_name    msamd state_name  \\\n",
            "400869   New York, White Plains, Wayne - NY, NJ  35644.0   New York   \n",
            "25128               Buffalo, Niagara Falls - NY  15380.0   New York   \n",
            "73622               Buffalo, Niagara Falls - NY  15380.0   New York   \n",
            "637936  Poughkeepsie, Newburgh, Middletown - NY  39100.0   New York   \n",
            "570628   New York, White Plains, Wayne - NY, NJ  35644.0   New York   \n",
            "\n",
            "       state_abbr  state_code         county_name  county_code  \\\n",
            "400869         NY          36  Westchester County        119.0   \n",
            "25128          NY          36         Erie County         29.0   \n",
            "73622          NY          36         Erie County         29.0   \n",
            "637936         NY          36     Dutchess County         27.0   \n",
            "570628         NY          36        Bronx County          5.0   \n",
            "\n",
            "        census_tract_number applicant_ethnicity_name  applicant_ethnicity  \\\n",
            "400869                 63.0   Not Hispanic or Latino                    2   \n",
            "25128                  58.0   Not Hispanic or Latino                    2   \n",
            "73622                 159.0   Not Hispanic or Latino                    2   \n",
            "637936               1408.0   Not Hispanic or Latino                    2   \n",
            "570628                442.0       Hispanic or Latino                    1   \n",
            "\n",
            "       co_applicant_ethnicity_name  co_applicant_ethnicity  \\\n",
            "400869             No co-applicant                       5   \n",
            "25128              No co-applicant                       5   \n",
            "73622              No co-applicant                       5   \n",
            "637936             No co-applicant                       5   \n",
            "570628      Not Hispanic or Latino                       2   \n",
            "\n",
            "       applicant_race_name_1  applicant_race_1 applicant_race_name_2  \\\n",
            "400869                 Asian                 2                   NaN   \n",
            "25128                  White                 5                   NaN   \n",
            "73622                  White                 5                   NaN   \n",
            "637936                 White                 5                   NaN   \n",
            "570628                 White                 5                   NaN   \n",
            "\n",
            "        applicant_race_2 applicant_race_name_3  applicant_race_3  \\\n",
            "400869               NaN                   NaN               NaN   \n",
            "25128                NaN                   NaN               NaN   \n",
            "73622                NaN                   NaN               NaN   \n",
            "637936               NaN                   NaN               NaN   \n",
            "570628               NaN                   NaN               NaN   \n",
            "\n",
            "       applicant_race_name_4  applicant_race_4 applicant_race_name_5  \\\n",
            "400869                   NaN               NaN                   NaN   \n",
            "25128                    NaN               NaN                   NaN   \n",
            "73622                    NaN               NaN                   NaN   \n",
            "637936                   NaN               NaN                   NaN   \n",
            "570628                   NaN               NaN                   NaN   \n",
            "\n",
            "        applicant_race_5   co_applicant_race_name_1  co_applicant_race_1  \\\n",
            "400869               NaN            No co-applicant                    8   \n",
            "25128                NaN            No co-applicant                    8   \n",
            "73622                NaN            No co-applicant                    8   \n",
            "637936               NaN            No co-applicant                    8   \n",
            "570628               NaN  Black or African American                    3   \n",
            "\n",
            "       co_applicant_race_name_2  co_applicant_race_2 co_applicant_race_name_3  \\\n",
            "400869                      NaN                  NaN                      NaN   \n",
            "25128                       NaN                  NaN                      NaN   \n",
            "73622                       NaN                  NaN                      NaN   \n",
            "637936                      NaN                  NaN                      NaN   \n",
            "570628                      NaN                  NaN                      NaN   \n",
            "\n",
            "        co_applicant_race_3 co_applicant_race_name_4  co_applicant_race_4  \\\n",
            "400869                  NaN                      NaN                  NaN   \n",
            "25128                   NaN                      NaN                  NaN   \n",
            "73622                   NaN                      NaN                  NaN   \n",
            "637936                  NaN                      NaN                  NaN   \n",
            "570628                  NaN                      NaN                  NaN   \n",
            "\n",
            "       co_applicant_race_name_5  co_applicant_race_5 applicant_sex_name  \\\n",
            "400869                      NaN                  NaN               Male   \n",
            "25128                       NaN                  NaN             Female   \n",
            "73622                       NaN                  NaN             Female   \n",
            "637936                      NaN                  NaN               Male   \n",
            "570628                      NaN                  NaN             Female   \n",
            "\n",
            "        applicant_sex co_applicant_sex_name  co_applicant_sex  \\\n",
            "400869              1       No co-applicant                 5   \n",
            "25128               2       No co-applicant                 5   \n",
            "73622               2       No co-applicant                 5   \n",
            "637936              1       No co-applicant                 5   \n",
            "570628              2                  Male                 1   \n",
            "\n",
            "        applicant_income_000s  \\\n",
            "400869                  130.0   \n",
            "25128                    24.0   \n",
            "73622                    27.0   \n",
            "637936                  139.0   \n",
            "570628                  154.0   \n",
            "\n",
            "                                      purchaser_type_name  purchaser_type  \\\n",
            "400869  Loan was not originated or was not sold in cal...               0   \n",
            "25128                             Other type of purchaser               9   \n",
            "73622   Loan was not originated or was not sold in cal...               0   \n",
            "637936  Loan was not originated or was not sold in cal...               0   \n",
            "570628                            Other type of purchaser               9   \n",
            "\n",
            "       denial_reason_name_1  denial_reason_1 denial_reason_name_2  \\\n",
            "400869                  NaN              NaN                  NaN   \n",
            "25128                   NaN              NaN                  NaN   \n",
            "73622                   NaN              NaN                  NaN   \n",
            "637936                  NaN              NaN                  NaN   \n",
            "570628                  NaN              NaN                  NaN   \n",
            "\n",
            "        denial_reason_2 denial_reason_name_3  denial_reason_3  rate_spread  \\\n",
            "400869              NaN                  NaN              NaN          NaN   \n",
            "25128               NaN                  NaN              NaN          NaN   \n",
            "73622               NaN                  NaN              NaN          NaN   \n",
            "637936              NaN                  NaN              NaN          NaN   \n",
            "570628              NaN                  NaN              NaN          NaN   \n",
            "\n",
            "       hoepa_status_name  hoepa_status               lien_status_name  \\\n",
            "400869  Not a HOEPA loan             2  Secured by a subordinate lien   \n",
            "25128   Not a HOEPA loan             2        Secured by a first lien   \n",
            "73622   Not a HOEPA loan             2        Secured by a first lien   \n",
            "637936  Not a HOEPA loan             2        Secured by a first lien   \n",
            "570628  Not a HOEPA loan             2        Secured by a first lien   \n",
            "\n",
            "        lien_status           edit_status_name  edit_status  sequence_number  \\\n",
            "400869            2  Quality edit failure only          6.0           845868   \n",
            "25128             1                        NaN          NaN            16437   \n",
            "73622             1                        NaN          NaN           211165   \n",
            "637936            1                        NaN          NaN           432067   \n",
            "570628            1                        NaN          NaN            87290   \n",
            "\n",
            "        population  minority_population  hud_median_family_income  \\\n",
            "400869      5905.0            75.160004                   59500.0   \n",
            "25128       7776.0            10.940000                   59300.0   \n",
            "73622       4249.0             2.090000                   59300.0   \n",
            "637936      2811.0            13.200000                   76400.0   \n",
            "570628      3715.0            93.160004                   59500.0   \n",
            "\n",
            "        tract_to_msamd_income  number_of_owner_occupied_units  \\\n",
            "400869              80.709999                           374.0   \n",
            "25128               70.570000                          1728.0   \n",
            "73622              100.559998                          1045.0   \n",
            "637936             107.190002                           922.0   \n",
            "570628              88.959999                           438.0   \n",
            "\n",
            "        number_of_1_to_4_family_units  application_date_indicator  \n",
            "400869                          915.0                           0  \n",
            "25128                          3429.0                           0  \n",
            "73622                          1571.0                           0  \n",
            "637936                         1017.0                           0  \n",
            "570628                          948.0                           0  \n"
          ]
        }
      ]
    },
    {
      "cell_type": "markdown",
      "source": [
        "## Selection of only \"No Co-aplicant\" records"
      ],
      "metadata": {
        "id": "iDwfgvY3SfwR"
      }
    },
    {
      "cell_type": "code",
      "source": [
        "df = df[df['co_applicant_ethnicity_name'] == 'No co-applicant']"
      ],
      "metadata": {
        "id": "mdlsrecHSpSc"
      },
      "execution_count": 9,
      "outputs": []
    },
    {
      "cell_type": "code",
      "source": [
        "print(df.dtypes)"
      ],
      "metadata": {
        "colab": {
          "base_uri": "https://localhost:8080/"
        },
        "id": "3jiOQp3yUnQQ",
        "outputId": "963b750b-9a9b-421d-932d-5d09a858096c"
      },
      "execution_count": 10,
      "outputs": [
        {
          "output_type": "stream",
          "name": "stdout",
          "text": [
            "as_of_year                          int64\n",
            "respondent_id                      object\n",
            "agency_name                        object\n",
            "agency_abbr                        object\n",
            "agency_code                         int64\n",
            "loan_type_name                     object\n",
            "loan_type                           int64\n",
            "property_type_name                 object\n",
            "property_type                       int64\n",
            "loan_purpose_name                  object\n",
            "loan_purpose                        int64\n",
            "owner_occupancy_name               object\n",
            "owner_occupancy                     int64\n",
            "loan_amount_000s                    int64\n",
            "preapproval_name                   object\n",
            "preapproval                         int64\n",
            "action_taken_name                  object\n",
            "action_taken                        int64\n",
            "msamd_name                         object\n",
            "msamd                             float64\n",
            "state_name                         object\n",
            "state_abbr                         object\n",
            "state_code                          int64\n",
            "county_name                        object\n",
            "county_code                       float64\n",
            "census_tract_number               float64\n",
            "applicant_ethnicity_name           object\n",
            "applicant_ethnicity                 int64\n",
            "co_applicant_ethnicity_name        object\n",
            "co_applicant_ethnicity              int64\n",
            "applicant_race_name_1              object\n",
            "applicant_race_1                    int64\n",
            "applicant_race_name_2              object\n",
            "applicant_race_2                  float64\n",
            "applicant_race_name_3              object\n",
            "applicant_race_3                  float64\n",
            "applicant_race_name_4              object\n",
            "applicant_race_4                  float64\n",
            "applicant_race_name_5              object\n",
            "applicant_race_5                  float64\n",
            "co_applicant_race_name_1           object\n",
            "co_applicant_race_1                 int64\n",
            "co_applicant_race_name_2           object\n",
            "co_applicant_race_2               float64\n",
            "co_applicant_race_name_3           object\n",
            "co_applicant_race_3               float64\n",
            "co_applicant_race_name_4           object\n",
            "co_applicant_race_4               float64\n",
            "co_applicant_race_name_5           object\n",
            "co_applicant_race_5               float64\n",
            "applicant_sex_name                 object\n",
            "applicant_sex                       int64\n",
            "co_applicant_sex_name              object\n",
            "co_applicant_sex                    int64\n",
            "applicant_income_000s             float64\n",
            "purchaser_type_name                object\n",
            "purchaser_type                      int64\n",
            "denial_reason_name_1               object\n",
            "denial_reason_1                   float64\n",
            "denial_reason_name_2               object\n",
            "denial_reason_2                   float64\n",
            "denial_reason_name_3               object\n",
            "denial_reason_3                   float64\n",
            "rate_spread                       float64\n",
            "hoepa_status_name                  object\n",
            "hoepa_status                        int64\n",
            "lien_status_name                   object\n",
            "lien_status                         int64\n",
            "edit_status_name                   object\n",
            "edit_status                       float64\n",
            "sequence_number                     int64\n",
            "population                        float64\n",
            "minority_population               float64\n",
            "hud_median_family_income          float64\n",
            "tract_to_msamd_income             float64\n",
            "number_of_owner_occupied_units    float64\n",
            "number_of_1_to_4_family_units     float64\n",
            "application_date_indicator          int64\n",
            "dtype: object\n"
          ]
        }
      ]
    },
    {
      "cell_type": "markdown",
      "source": [
        "## Selection of relevant features"
      ],
      "metadata": {
        "id": "LnVi5W_zMvUS"
      }
    },
    {
      "cell_type": "code",
      "source": [
        "df = df[[\n",
        "    \"loan_type_name\",\n",
        "    \"property_type_name\",\n",
        "    \"loan_purpose_name\",\n",
        "    \"loan_amount_000s\",\n",
        "    \"action_taken_name\",\n",
        "    \"msamd_name\",\n",
        "    \"census_tract_number\",\n",
        "    \"applicant_ethnicity_name\",\n",
        "    \"applicant_race_name_1\",\n",
        "    \"applicant_sex_name\",\n",
        "    \"applicant_income_000s\",\n",
        "    \"denial_reason_name_1\",\n",
        "    \"rate_spread\",\n",
        "    \"lien_status_name\",\n",
        "    \"hud_median_family_income\",\n",
        "    \"tract_to_msamd_income\"\n",
        "]]"
      ],
      "metadata": {
        "id": "VxiioeT1Mw_D"
      },
      "execution_count": 11,
      "outputs": []
    },
    {
      "cell_type": "code",
      "source": [
        "print(df.dtypes)"
      ],
      "metadata": {
        "colab": {
          "base_uri": "https://localhost:8080/"
        },
        "id": "6YDdgsr7U1I8",
        "outputId": "c7f1789a-228e-4304-d15a-b18d880eec88"
      },
      "execution_count": 12,
      "outputs": [
        {
          "output_type": "stream",
          "name": "stdout",
          "text": [
            "loan_type_name               object\n",
            "property_type_name           object\n",
            "loan_purpose_name            object\n",
            "loan_amount_000s              int64\n",
            "action_taken_name            object\n",
            "msamd_name                   object\n",
            "census_tract_number         float64\n",
            "applicant_ethnicity_name     object\n",
            "applicant_race_name_1        object\n",
            "applicant_sex_name           object\n",
            "applicant_income_000s       float64\n",
            "denial_reason_name_1         object\n",
            "rate_spread                 float64\n",
            "lien_status_name             object\n",
            "hud_median_family_income    float64\n",
            "tract_to_msamd_income       float64\n",
            "dtype: object\n"
          ]
        }
      ]
    },
    {
      "cell_type": "code",
      "source": [
        "print(df.shape)"
      ],
      "metadata": {
        "colab": {
          "base_uri": "https://localhost:8080/"
        },
        "id": "uQSROAAkVz4s",
        "outputId": "5d007d55-4510-4de0-f6a6-8db6df47acbf"
      },
      "execution_count": 13,
      "outputs": [
        {
          "output_type": "stream",
          "name": "stdout",
          "text": [
            "(601274, 16)\n"
          ]
        }
      ]
    },
    {
      "cell_type": "code",
      "source": [
        "print(df.describe())"
      ],
      "metadata": {
        "colab": {
          "base_uri": "https://localhost:8080/"
        },
        "id": "rJ7RZNx3WGWb",
        "outputId": "837cb02f-e444-4308-d124-d48ce6c38474"
      },
      "execution_count": 14,
      "outputs": [
        {
          "output_type": "stream",
          "name": "stdout",
          "text": [
            "       loan_amount_000s  census_tract_number  applicant_income_000s  \\\n",
            "count     601274.000000        600501.000000          558351.000000   \n",
            "mean         257.485403          1434.016365             115.918044   \n",
            "std          425.800429          2516.739575             215.812326   \n",
            "min            1.000000             1.000000               1.000000   \n",
            "25%           76.000000           132.000000              50.000000   \n",
            "50%          176.000000           374.000000              80.000000   \n",
            "75%          368.000000          1351.010000             123.000000   \n",
            "max        93000.000000          9929.000000            9999.000000   \n",
            "\n",
            "        rate_spread  hud_median_family_income  tract_to_msamd_income  \n",
            "count  46312.000000             600473.000000          600246.000000  \n",
            "mean       5.119319              66569.953853             106.660651  \n",
            "std        1.658133              14311.443551              46.883337  \n",
            "min        3.000000              50900.000000               5.050000  \n",
            "25%        3.550000              59500.000000              80.820000  \n",
            "50%        5.020000              59500.000000              98.709999  \n",
            "75%        6.370000              66300.000000             120.849998  \n",
            "max       17.960000              93800.000000             404.359985  \n"
          ]
        }
      ]
    },
    {
      "cell_type": "markdown",
      "source": [
        "# Data Cleaning"
      ],
      "metadata": {
        "id": "YqzKhpgpaCzF"
      }
    },
    {
      "cell_type": "code",
      "source": [
        "categorical_columns = df.select_dtypes(include=['object']).columns\n",
        "for col in categorical_columns:\n",
        "  print(f\"Value counts for: {col}\")\n",
        "  print(df[col].value_counts(), \"\\n\")"
      ],
      "metadata": {
        "colab": {
          "base_uri": "https://localhost:8080/"
        },
        "id": "dVRGA8QhXlsF",
        "outputId": "ba4fba10-d22b-4985-c80e-ea36c7f5e9be"
      },
      "execution_count": 15,
      "outputs": [
        {
          "output_type": "stream",
          "name": "stdout",
          "text": [
            "Value counts for: loan_type_name\n",
            "loan_type_name\n",
            "Conventional          579399\n",
            "FHA-insured            19791\n",
            "VA-guaranteed           1697\n",
            "FSA/RHS-guaranteed       387\n",
            "Name: count, dtype: int64 \n",
            "\n",
            "Value counts for: property_type_name\n",
            "property_type_name\n",
            "One-to-four family dwelling (other than manufactured housing)    590101\n",
            "Manufactured housing                                               7094\n",
            "Multifamily dwelling                                               4079\n",
            "Name: count, dtype: int64 \n",
            "\n",
            "Value counts for: loan_purpose_name\n",
            "loan_purpose_name\n",
            "Refinancing         288173\n",
            "Home purchase       237915\n",
            "Home improvement     75186\n",
            "Name: count, dtype: int64 \n",
            "\n",
            "Value counts for: action_taken_name\n",
            "action_taken_name\n",
            "Loan originated                                        231939\n",
            "Application denied by financial institution            179429\n",
            "Application withdrawn by applicant                      61678\n",
            "Application approved but not accepted                   56103\n",
            "Loan purchased by the institution                       50906\n",
            "File closed for incompleteness                          21192\n",
            "Preapproval request denied by financial institution        25\n",
            "Preapproval request approved but not accepted               2\n",
            "Name: count, dtype: int64 \n",
            "\n",
            "Value counts for: msamd_name\n",
            "msamd_name\n",
            "New York, White Plains, Wayne - NY, NJ     245728\n",
            "Nassau, Suffolk - NY                       117608\n",
            "Rochester - NY                              35295\n",
            "Buffalo, Niagara Falls - NY                 33734\n",
            "Albany, Schenectady, Troy - NY              33398\n",
            "Poughkeepsie, Newburgh, Middletown - NY     27790\n",
            "Syracuse - NY                               22488\n",
            "Utica, Rome - NY                             9763\n",
            "Binghamton - NY                              7634\n",
            "Kingston - NY                                7037\n",
            "Glens Falls - NY                             5924\n",
            "Elmira - NY                                  2715\n",
            "Ithaca - NY                                  1986\n",
            "Name: count, dtype: int64 \n",
            "\n",
            "Value counts for: applicant_ethnicity_name\n",
            "applicant_ethnicity_name\n",
            "Not Hispanic or Latino                                                               426934\n",
            "Information not provided by applicant in mail, Internet, or telephone application    100862\n",
            "Hispanic or Latino                                                                    59335\n",
            "Not applicable                                                                        14143\n",
            "Name: count, dtype: int64 \n",
            "\n",
            "Value counts for: applicant_race_name_1\n",
            "applicant_race_name_1\n",
            "White                                                                                357942\n",
            "Information not provided by applicant in mail, Internet, or telephone application    106500\n",
            "Black or African American                                                             82337\n",
            "Asian                                                                                 33437\n",
            "Not applicable                                                                        13785\n",
            "American Indian or Alaska Native                                                       3668\n",
            "Native Hawaiian or Other Pacific Islander                                              3605\n",
            "Name: count, dtype: int64 \n",
            "\n",
            "Value counts for: applicant_sex_name\n",
            "applicant_sex_name\n",
            "Male                                                                                 310011\n",
            "Female                                                                               225408\n",
            "Information not provided by applicant in mail, Internet, or telephone application     51960\n",
            "Not applicable                                                                        13895\n",
            "Name: count, dtype: int64 \n",
            "\n",
            "Value counts for: denial_reason_name_1\n",
            "denial_reason_name_1\n",
            "Credit history                                    29112\n",
            "Credit application incomplete                     22203\n",
            "Other                                             22052\n",
            "Debt-to-income ratio                              21931\n",
            "Collateral                                        19741\n",
            "Unverifiable information                           8781\n",
            "Insufficient cash (downpayment, closing costs)     1955\n",
            "Employment history                                 1231\n",
            "Mortgage insurance denied                           101\n",
            "Name: count, dtype: int64 \n",
            "\n",
            "Value counts for: lien_status_name\n",
            "lien_status_name\n",
            "Secured by a first lien          437111\n",
            "Secured by a subordinate lien     89827\n",
            "Not applicable                    50906\n",
            "Not secured by a lien             23430\n",
            "Name: count, dtype: int64 \n",
            "\n"
          ]
        }
      ]
    },
    {
      "cell_type": "markdown",
      "source": [
        "## Excluding: irrelevant records from the following columns:\n",
        "\n",
        "*   applicant_ethnicity_name\n",
        "*   applicant_race_name_1\n",
        "*   applicant_sex_name\n",
        "*   action_taken_name\n",
        "\n",
        "\n",
        "\n"
      ],
      "metadata": {
        "id": "UxLhM33maW3T"
      }
    },
    {
      "cell_type": "code",
      "source": [
        "df = df[\n",
        "    ~df[\"action_taken_name\"].isin([\n",
        "        \"File closed for incompleteness\",\n",
        "        \"Preapproval request denied by financial institution\",\n",
        "        \"Preapproval request approved but not accepted\",\n",
        "        \"Application withdrawn by applicant\"\n",
        "    ]) &\n",
        "    ~df[\"applicant_ethnicity_name\"].isin([\n",
        "        \"Information not provided by applicant in mail, Internet, or telephone application\",\n",
        "        \"Not applicable\"\n",
        "    ]) &\n",
        "    ~df[\"applicant_race_name_1\"].isin([\n",
        "        \"Information not provided by applicant in mail, Internet, or telephone application\",\n",
        "        \"Not applicable\"\n",
        "    ]) &\n",
        "    ~df[\"applicant_sex_name\"].isin([\n",
        "        \"Information not provided by applicant in mail, Internet, or telephone application\",\n",
        "        \"Not applicable\"\n",
        "    ])\n",
        "]\n"
      ],
      "metadata": {
        "id": "WGhUBwpGaiDR"
      },
      "execution_count": 16,
      "outputs": []
    },
    {
      "cell_type": "code",
      "source": [
        "print(df.shape)"
      ],
      "metadata": {
        "colab": {
          "base_uri": "https://localhost:8080/"
        },
        "id": "nApOTrwFbgzx",
        "outputId": "4a7c4b3f-133a-4c05-a9e0-9599abc3dc29"
      },
      "execution_count": 17,
      "outputs": [
        {
          "output_type": "stream",
          "name": "stdout",
          "text": [
            "(410858, 16)\n"
          ]
        }
      ]
    },
    {
      "cell_type": "markdown",
      "source": [
        "## Addressing missing values"
      ],
      "metadata": {
        "id": "jmRW-3zKdEs9"
      }
    },
    {
      "cell_type": "code",
      "source": [
        "print(df.isnull().sum())"
      ],
      "metadata": {
        "colab": {
          "base_uri": "https://localhost:8080/"
        },
        "id": "ez6N3C1KdJW9",
        "outputId": "18bedd2a-29b2-4361-fcc6-167bc0911c4c"
      },
      "execution_count": 18,
      "outputs": [
        {
          "output_type": "stream",
          "name": "stdout",
          "text": [
            "loan_type_name                   0\n",
            "property_type_name               0\n",
            "loan_purpose_name                0\n",
            "loan_amount_000s                 0\n",
            "action_taken_name                0\n",
            "msamd_name                   36465\n",
            "census_tract_number            483\n",
            "applicant_ethnicity_name         0\n",
            "applicant_race_name_1            0\n",
            "applicant_sex_name               0\n",
            "applicant_income_000s        22625\n",
            "denial_reason_name_1        313621\n",
            "rate_spread                 372712\n",
            "lien_status_name                 0\n",
            "hud_median_family_income       508\n",
            "tract_to_msamd_income          638\n",
            "dtype: int64\n"
          ]
        }
      ]
    },
    {
      "cell_type": "code",
      "source": [
        "df = df.assign(\n",
        "    msamd_name=df['msamd_name'].fillna(\"Unknown\"),\n",
        "    denial_reason_name_1=df['denial_reason_name_1'].fillna(\"Unknown\"),\n",
        "    rate_spread=df['rate_spread'].fillna(0)\n",
        ")\n",
        "\n",
        "df = df.dropna(subset=['hud_median_family_income', 'tract_to_msamd_income', 'applicant_income_000s'])\n"
      ],
      "metadata": {
        "id": "pwGTnPkUfttH"
      },
      "execution_count": 19,
      "outputs": []
    },
    {
      "cell_type": "code",
      "source": [
        "print(df.shape)\n",
        "print(df.isnull().sum())"
      ],
      "metadata": {
        "colab": {
          "base_uri": "https://localhost:8080/"
        },
        "id": "4OOQriWBjOIP",
        "outputId": "be561b18-49e2-4925-fe7b-6820b9765f83"
      },
      "execution_count": 20,
      "outputs": [
        {
          "output_type": "stream",
          "name": "stdout",
          "text": [
            "(387610, 16)\n",
            "loan_type_name              0\n",
            "property_type_name          0\n",
            "loan_purpose_name           0\n",
            "loan_amount_000s            0\n",
            "action_taken_name           0\n",
            "msamd_name                  0\n",
            "census_tract_number         0\n",
            "applicant_ethnicity_name    0\n",
            "applicant_race_name_1       0\n",
            "applicant_sex_name          0\n",
            "applicant_income_000s       0\n",
            "denial_reason_name_1        0\n",
            "rate_spread                 0\n",
            "lien_status_name            0\n",
            "hud_median_family_income    0\n",
            "tract_to_msamd_income       0\n",
            "dtype: int64\n"
          ]
        }
      ]
    },
    {
      "cell_type": "markdown",
      "source": [
        "# Creation of new columns\n"
      ],
      "metadata": {
        "id": "i5-0VTy_pFwb"
      }
    },
    {
      "cell_type": "markdown",
      "source": [
        "## ethnicity_race_sex"
      ],
      "metadata": {
        "id": "7nyjN0uPpKIA"
      }
    },
    {
      "cell_type": "code",
      "source": [
        "\n",
        "df['ethnicity_race_sex'] = df['applicant_ethnicity_name'].str.lower() + \"_\" + df['applicant_race_name_1'].str.lower() + \"_\" + df['applicant_sex_name'].str.lower()\n",
        "\n",
        "# Checking column created\n",
        "print(df[['ethnicity_race_sex']].value_counts())"
      ],
      "metadata": {
        "colab": {
          "base_uri": "https://localhost:8080/"
        },
        "id": "2ax5jwGmpUPV",
        "outputId": "1699729b-05be-435f-c2a8-b896963b870c"
      },
      "execution_count": 21,
      "outputs": [
        {
          "output_type": "stream",
          "name": "stdout",
          "text": [
            "ethnicity_race_sex                                                     \n",
            "not hispanic or latino_white_male                                          152266\n",
            "not hispanic or latino_white_female                                         99758\n",
            "not hispanic or latino_black or african american_female                     33890\n",
            "not hispanic or latino_black or african american_male                       27917\n",
            "hispanic or latino_white_male                                               23592\n",
            "not hispanic or latino_asian_male                                           16565\n",
            "hispanic or latino_white_female                                             14471\n",
            "not hispanic or latino_asian_female                                         10629\n",
            "not hispanic or latino_american indian or alaska native_male                 1325\n",
            "hispanic or latino_black or african american_male                            1199\n",
            "not hispanic or latino_native hawaiian or other pacific islander_male        1152\n",
            "hispanic or latino_black or african american_female                          1089\n",
            "not hispanic or latino_native hawaiian or other pacific islander_female       919\n",
            "not hispanic or latino_american indian or alaska native_female                862\n",
            "hispanic or latino_native hawaiian or other pacific islander_male             557\n",
            "hispanic or latino_american indian or alaska native_male                      459\n",
            "hispanic or latino_native hawaiian or other pacific islander_female           299\n",
            "hispanic or latino_american indian or alaska native_female                    277\n",
            "hispanic or latino_asian_male                                                 227\n",
            "hispanic or latino_asian_female                                               157\n",
            "Name: count, dtype: int64\n"
          ]
        }
      ]
    },
    {
      "cell_type": "code",
      "source": [
        "print(\"test\")"
      ],
      "metadata": {
        "colab": {
          "base_uri": "https://localhost:8080/"
        },
        "id": "jF3NfXyFoI2u",
        "outputId": "a46dec18-5213-4af6-aef5-edb6cc7b9a63"
      },
      "execution_count": 22,
      "outputs": [
        {
          "output_type": "stream",
          "name": "stdout",
          "text": [
            "test\n"
          ]
        }
      ]
    },
    {
      "cell_type": "code",
      "source": [
        "print(\"this is another test\")"
      ],
      "metadata": {
        "colab": {
          "base_uri": "https://localhost:8080/"
        },
        "id": "IigtXojiAkJb",
        "outputId": "a847f0f4-73c7-4a98-e277-540807cbf76a"
      },
      "execution_count": 23,
      "outputs": [
        {
          "output_type": "stream",
          "name": "stdout",
          "text": [
            "this is another test\n"
          ]
        }
      ]
    },
    {
      "cell_type": "markdown",
      "source": [
        "# Commit to GitHub\n",
        "\n",
        "\n",
        "The code below will help us to commit our project onto GitHub:\n",
        "\n"
      ],
      "metadata": {
        "id": "krvMZVrLbE4T"
      }
    },
    {
      "cell_type": "code",
      "source": [
        "os.chdir(\"/content/drive/My Drive/Colab Notebooks/hmda_ny_2007_preprocessing/\") #First we call our project's location using we use os.chdir() instead of %cd because\n",
        "                                                                                #the first option is the better choice for code that needs to be portable and run in different environments\n",
        "                                                                                #and we are trying to replicate a working environment.\n",
        "\n",
        "#Source: https://www.tutorialspoint.com/python/os_chdir.htm"
      ],
      "metadata": {
        "id": "D4bEkPiTnnkJ"
      },
      "execution_count": 24,
      "outputs": []
    },
    {
      "cell_type": "code",
      "source": [
        "#We use subprocess.run([\"git\", \"status\"]) instead of \"!git status\" (Google Colab) for a PEP-8.\n",
        "result = subprocess.run([\"git\", \"status\"], capture_output=True, text=True) # The following helps us to \"capture the results\"; capture_output=True, text=True\n",
        "\n",
        "print(result.stdout)  # Print the status message\n",
        "print(result.stderr)  # Print errors if there are any."
      ],
      "metadata": {
        "colab": {
          "base_uri": "https://localhost:8080/"
        },
        "id": "-ZDKHGHTOojc",
        "outputId": "8868e81e-1d95-466d-f340-0d4674fa7548"
      },
      "execution_count": 50,
      "outputs": [
        {
          "output_type": "stream",
          "name": "stdout",
          "text": [
            "On branch master\n",
            "nothing to commit, working tree clean\n",
            "\n",
            "\n"
          ]
        }
      ]
    },
    {
      "cell_type": "code",
      "source": [
        "subprocess.run([\"git\", \"add\", \".\"], check=True) #!git add . |/| We use \"check=True\" to ensure that if there are any error, they will be shown."
      ],
      "metadata": {
        "colab": {
          "base_uri": "https://localhost:8080/"
        },
        "id": "T2OlVWPnBrvh",
        "outputId": "8f49e351-18bb-4061-e0a4-26b24c7ea733"
      },
      "execution_count": 48,
      "outputs": [
        {
          "output_type": "execute_result",
          "data": {
            "text/plain": [
              "CompletedProcess(args=['git', 'add', '.'], returncode=0)"
            ]
          },
          "metadata": {},
          "execution_count": 48
        }
      ]
    },
    {
      "cell_type": "code",
      "source": [
        "subprocess.run([\"git\", \"commit\", \"-m\", \"Updating1412-15032025\"], check=True) #Google Colab: !git commit -m \"Updating\""
      ],
      "metadata": {
        "colab": {
          "base_uri": "https://localhost:8080/"
        },
        "id": "OZl5ETWmwSky",
        "outputId": "34e5992e-d3fb-4742-9564-77b2303a1cb3"
      },
      "execution_count": 49,
      "outputs": [
        {
          "output_type": "execute_result",
          "data": {
            "text/plain": [
              "CompletedProcess(args=['git', 'commit', '-m', 'Updating1412-15032025'], returncode=0)"
            ]
          },
          "metadata": {},
          "execution_count": 49
        }
      ]
    },
    {
      "cell_type": "code",
      "source": [
        "subprocess.run([\"git\", \"push\", \"origin\", \"main\"], check=True) #!git push origin main #gave error, solution !git config --global credential.helper store"
      ],
      "metadata": {
        "colab": {
          "base_uri": "https://localhost:8080/",
          "height": 263
        },
        "id": "0vN4aALpQsKn",
        "outputId": "dff475bd-4fcb-4cc7-c156-5e9805da376e"
      },
      "execution_count": 47,
      "outputs": [
        {
          "output_type": "error",
          "ename": "CalledProcessError",
          "evalue": "Command '['git', 'push', 'origin', 'main']' returned non-zero exit status 1.",
          "traceback": [
            "\u001b[0;31m---------------------------------------------------------------------------\u001b[0m",
            "\u001b[0;31mCalledProcessError\u001b[0m                        Traceback (most recent call last)",
            "\u001b[0;32m<ipython-input-47-469854fd773c>\u001b[0m in \u001b[0;36m<cell line: 0>\u001b[0;34m()\u001b[0m\n\u001b[0;32m----> 1\u001b[0;31m \u001b[0msubprocess\u001b[0m\u001b[0;34m.\u001b[0m\u001b[0mrun\u001b[0m\u001b[0;34m(\u001b[0m\u001b[0;34m[\u001b[0m\u001b[0;34m\"git\"\u001b[0m\u001b[0;34m,\u001b[0m \u001b[0;34m\"push\"\u001b[0m\u001b[0;34m,\u001b[0m \u001b[0;34m\"origin\"\u001b[0m\u001b[0;34m,\u001b[0m \u001b[0;34m\"main\"\u001b[0m\u001b[0;34m]\u001b[0m\u001b[0;34m,\u001b[0m \u001b[0mcheck\u001b[0m\u001b[0;34m=\u001b[0m\u001b[0;32mTrue\u001b[0m\u001b[0;34m)\u001b[0m \u001b[0;31m#!git push origin main #gave error, solution !git config --global credential.helper store\u001b[0m\u001b[0;34m\u001b[0m\u001b[0;34m\u001b[0m\u001b[0m\n\u001b[0m",
            "\u001b[0;32m/usr/lib/python3.11/subprocess.py\u001b[0m in \u001b[0;36mrun\u001b[0;34m(input, capture_output, timeout, check, *popenargs, **kwargs)\u001b[0m\n\u001b[1;32m    569\u001b[0m         \u001b[0mretcode\u001b[0m \u001b[0;34m=\u001b[0m \u001b[0mprocess\u001b[0m\u001b[0;34m.\u001b[0m\u001b[0mpoll\u001b[0m\u001b[0;34m(\u001b[0m\u001b[0;34m)\u001b[0m\u001b[0;34m\u001b[0m\u001b[0;34m\u001b[0m\u001b[0m\n\u001b[1;32m    570\u001b[0m         \u001b[0;32mif\u001b[0m \u001b[0mcheck\u001b[0m \u001b[0;32mand\u001b[0m \u001b[0mretcode\u001b[0m\u001b[0;34m:\u001b[0m\u001b[0;34m\u001b[0m\u001b[0;34m\u001b[0m\u001b[0m\n\u001b[0;32m--> 571\u001b[0;31m             raise CalledProcessError(retcode, process.args,\n\u001b[0m\u001b[1;32m    572\u001b[0m                                      output=stdout, stderr=stderr)\n\u001b[1;32m    573\u001b[0m     \u001b[0;32mreturn\u001b[0m \u001b[0mCompletedProcess\u001b[0m\u001b[0;34m(\u001b[0m\u001b[0mprocess\u001b[0m\u001b[0;34m.\u001b[0m\u001b[0margs\u001b[0m\u001b[0;34m,\u001b[0m \u001b[0mretcode\u001b[0m\u001b[0;34m,\u001b[0m \u001b[0mstdout\u001b[0m\u001b[0;34m,\u001b[0m \u001b[0mstderr\u001b[0m\u001b[0;34m)\u001b[0m\u001b[0;34m\u001b[0m\u001b[0;34m\u001b[0m\u001b[0m\n",
            "\u001b[0;31mCalledProcessError\u001b[0m: Command '['git', 'push', 'origin', 'main']' returned non-zero exit status 1."
          ]
        }
      ]
    },
    {
      "cell_type": "code",
      "source": [
        "logStatus = subprocess.run([\"git\", \"log\"], capture_output=True, text=True, check=True) #Google Colab: !git log\n",
        "print(logStatus.stdout) #Shows output\n",
        "print(logStatus.stderr) #Shows errors"
      ],
      "metadata": {
        "colab": {
          "base_uri": "https://localhost:8080/"
        },
        "id": "v7SjjMcjyd8o",
        "outputId": "65f1736c-07b4-4308-b4ce-126ae64215ef"
      },
      "execution_count": 58,
      "outputs": [
        {
          "output_type": "stream",
          "name": "stdout",
          "text": [
            "commit f563c8ac4285c4279b5c0e9874566e9c41510fc5\n",
            "Author: AJLR888 <roldan.analytics@gmail.com>\n",
            "Date:   Sat Mar 15 12:30:46 2025 +0000\n",
            "\n",
            "    Updating\n",
            "\n",
            "commit cb134b067fb99909de73625731bbf14e5e76e900\n",
            "Author: AJLR888 <roldan.analytics@gmail.com>\n",
            "Date:   Fri Mar 14 20:20:09 2025 +0000\n",
            "\n",
            "    Updating\n",
            "\n",
            "commit 1cb89c2f7fc484fa8cda5e5720d0d44660dab7cf\n",
            "Author: AJLR888 <roldan.analytics@gmail.com>\n",
            "Date:   Fri Mar 14 20:08:52 2025 +0000\n",
            "\n",
            "    Updating\n",
            "\n",
            "commit 2d54b485c39eef1b8a9466df1f41cdfa9a085b77\n",
            "Author: AJLR888 <roldan.analytics@gmail.com>\n",
            "Date:   Fri Mar 14 20:04:14 2025 +0000\n",
            "\n",
            "    Updating\n",
            "\n",
            "commit 4f2f380e3a853837d8d10b535cd24a6e67dc80c1\n",
            "Author: AJLR888 <roldan.analytics@gmail.com>\n",
            "Date:   Fri Mar 14 20:00:02 2025 +0000\n",
            "\n",
            "    Adding missing files\n",
            "\n",
            "commit 69483b2a9f3c0157f4f878c9d8c4bf0659ad79ed\n",
            "Author: AJLR888 <roldan.analytics@gmail.com>\n",
            "Date:   Fri Mar 14 19:56:36 2025 +0000\n",
            "\n",
            "    Adding missing files\n",
            "\n",
            "commit cf1a17dec1c0ae0eb78ef3bafd72c5e78209a065\n",
            "Author: AJLR888 <roldan.analytics@gmail.com>\n",
            "Date:   Fri Mar 14 19:53:28 2025 +0000\n",
            "\n",
            "    Adding missing files\n",
            "\n",
            "commit e47aedb9aa41b49583e16b1448cdc001c7c9735f\n",
            "Author: AJLR888 <roldan.analytics@gmail.com>\n",
            "Date:   Fri Mar 14 19:44:43 2025 +0000\n",
            "\n",
            "    Adding missing files\n",
            "\n",
            "commit 364111f52381cffd48062a8ab32676eee173f066\n",
            "Author: AJLR888 <roldan.analytics@gmail.com>\n",
            "Date:   Fri Mar 14 19:35:03 2025 +0000\n",
            "\n",
            "    Updated preprocessing script\n",
            "\n",
            "commit ef8a6abb448c296d2616468587e563182e3600f0\n",
            "Author: AJLR888 <roldan.analytics@gmail.com>\n",
            "Date:   Fri Mar 14 19:25:18 2025 +0000\n",
            "\n",
            "    Updated preprocessing script\n",
            "\n",
            "commit 8996488a525c836d0620038a77ecefabcfbbfe8f\n",
            "Author: Antonio Lopez <57899643+AJLR888@users.noreply.github.com>\n",
            "Date:   Fri Mar 14 15:11:16 2025 +0000\n",
            "\n",
            "    Create data_preprocessing\n",
            "\n",
            "commit 8c6385a5d4e42c6d95be556b523d2440224a9cb0\n",
            "Author: Antonio Lopez <57899643+AJLR888@users.noreply.github.com>\n",
            "Date:   Fri Mar 14 15:08:49 2025 +0000\n",
            "\n",
            "    Created using Colab\n",
            "\n",
            "commit bf427a6ea54f418f58e7892e70d1d8ecab63f307\n",
            "Author: Antonio Lopez <57899643+AJLR888@users.noreply.github.com>\n",
            "Date:   Fri Mar 14 15:04:33 2025 +0000\n",
            "\n",
            "    Initial commit\n",
            "\n",
            "\n"
          ]
        }
      ]
    },
    {
      "cell_type": "code",
      "source": [
        "subprocess.run([\"git\", \"log\"], check=True) #Google Colab \"\" !git log \"\""
      ],
      "metadata": {
        "colab": {
          "base_uri": "https://localhost:8080/"
        },
        "id": "tO-bGQF_MipM",
        "outputId": "3d568030-10f5-4408-ba21-a8295aee38e6"
      },
      "execution_count": null,
      "outputs": [
        {
          "output_type": "stream",
          "name": "stdout",
          "text": [
            "\u001b[33mcommit cb134b067fb99909de73625731bbf14e5e76e900\u001b[m\u001b[33m (\u001b[m\u001b[1;36mHEAD -> \u001b[m\u001b[1;32mmain\u001b[m\u001b[33m)\u001b[m\n",
            "Author: AJLR888 <roldan.analytics@gmail.com>\n",
            "Date:   Fri Mar 14 20:20:09 2025 +0000\n",
            "\n",
            "    Updating\n",
            "\n",
            "\u001b[33mcommit 1cb89c2f7fc484fa8cda5e5720d0d44660dab7cf\u001b[m\n",
            "Author: AJLR888 <roldan.analytics@gmail.com>\n",
            "Date:   Fri Mar 14 20:08:52 2025 +0000\n",
            "\n",
            "    Updating\n",
            "\n",
            "\u001b[33mcommit 2d54b485c39eef1b8a9466df1f41cdfa9a085b77\u001b[m\n",
            "Author: AJLR888 <roldan.analytics@gmail.com>\n",
            "Date:   Fri Mar 14 20:04:14 2025 +0000\n",
            "\n",
            "    Updating\n",
            "\n",
            "\u001b[33mcommit 4f2f380e3a853837d8d10b535cd24a6e67dc80c1\u001b[m\n",
            "Author: AJLR888 <roldan.analytics@gmail.com>\n",
            "Date:   Fri Mar 14 20:00:02 2025 +0000\n",
            "\n",
            "    Adding missing files\n",
            "\n",
            "\u001b[33mcommit 69483b2a9f3c0157f4f878c9d8c4bf0659ad79ed\u001b[m\n",
            "Author: AJLR888 <roldan.analytics@gmail.com>\n",
            "Date:   Fri Mar 14 19:56:36 2025 +0000\n",
            "\n",
            "    Adding missing files\n",
            "\n",
            "\u001b[33mcommit cf1a17dec1c0ae0eb78ef3bafd72c5e78209a065\u001b[m\n",
            "Author: AJLR888 <roldan.analytics@gmail.com>\n",
            "Date:   Fri Mar 14 19:53:28 2025 +0000\n",
            "\n",
            "    Adding missing files\n",
            "\n",
            "\u001b[33mcommit e47aedb9aa41b49583e16b1448cdc001c7c9735f\u001b[m\n",
            "Author: AJLR888 <roldan.analytics@gmail.com>\n",
            "Date:   Fri Mar 14 19:44:43 2025 +0000\n",
            "\n",
            "    Adding missing files\n",
            "\n",
            "\u001b[33mcommit 364111f52381cffd48062a8ab32676eee173f066\u001b[m\n",
            "Author: AJLR888 <roldan.analytics@gmail.com>\n",
            "Date:   Fri Mar 14 19:35:03 2025 +0000\n",
            "\n",
            "    Updated preprocessing script\n",
            "\n",
            "\u001b[33mcommit ef8a6abb448c296d2616468587e563182e3600f0\u001b[m\n",
            "Author: AJLR888 <roldan.analytics@gmail.com>\n",
            "Date:   Fri Mar 14 19:25:18 2025 +0000\n",
            "\n",
            "    Updated preprocessing script\n",
            "\n",
            "\u001b[33mcommit 8996488a525c836d0620038a77ecefabcfbbfe8f\u001b[m\n",
            "Author: Antonio Lopez <57899643+AJLR888@users.noreply.github.com>\n",
            "Date:   Fri Mar 14 15:11:16 2025 +0000\n",
            "\n",
            "    Create data_preprocessing\n",
            "\n",
            "\u001b[33mcommit 8c6385a5d4e42c6d95be556b523d2440224a9cb0\u001b[m\n",
            "Author: Antonio Lopez <57899643+AJLR888@users.noreply.github.com>\n",
            "Date:   Fri Mar 14 15:08:49 2025 +0000\n",
            "\n",
            "    Created using Colab\n",
            "\n",
            "\u001b[33mcommit bf427a6ea54f418f58e7892e70d1d8ecab63f307\u001b[m\n",
            "Author: Antonio Lopez <57899643+AJLR888@users.noreply.github.com>\n",
            "Date:   Fri Mar 14 15:04:33 2025 +0000\n",
            "\n",
            "    Initial commit\n"
          ]
        }
      ]
    }
  ]
}