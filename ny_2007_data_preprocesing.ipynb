{
  "cells": [
    {
      "cell_type": "markdown",
      "metadata": {
        "id": "view-in-github",
        "colab_type": "text"
      },
      "source": [
        "<a href=\"https://colab.research.google.com/github/AJLR888/hmda-ny-2007-loan-default/blob/main/ny_2007_data_preprocesing.ipynb\" target=\"_parent\"><img src=\"https://colab.research.google.com/assets/colab-badge.svg\" alt=\"Open In Colab\"/></a>"
      ]
    },
    {
      "cell_type": "markdown",
      "source": [
        "# **HMDA. Mortgage Data Analysis and Modeling Predictions.**\n",
        "\n",
        "## The Dataset: https://www.consumerfinance.gov/data-research/hmda/\n",
        "\n",
        "The Home Mortgage Disclosure Act (HMDA) requires many financial institutions to maintain, report, and publicly disclose loan-level information about mortgages. These data help show whether lenders are serving the housing needs of their communities; they give public officials information that helps them make decisions and policies; and they shed light on lending patterns that could be discriminatory. The public data are modified to protect applicant and borrower privacy.\n",
        "\n",
        "HMDA was originally enacted by Congress in 1975 and is implemented by Regulation C.\n",
        "\n",
        "## The Goal:\n",
        "We will use the models Logistic Regression and LightGBM. to assess the outcomes, we will use ROC-AUC and Log Loss. The purpouse will be:\n",
        "\n",
        "1.   **Find out if the are any intersectional biases** in model's predictions.\n",
        "2.   **Which features influenced the most on model's outcomes**. We will use SHAP Values.\n",
        "\n",
        "## Steps:\n",
        "\n",
        "1.   Setup of working environment and libraries.\n",
        "2.   Overview:\n",
        "  *   A) Understanding features: Know what each column represents and whether it is useful.\n",
        "  *   B) Understanding the data, shape and structure:\n",
        "\n",
        "      *   df.shape\n",
        "      *   df.columns\n",
        "      *   df.dtypes\n",
        "      *   df.head()\n",
        "3.   Data cleaning:\n",
        "  *   A) Excluding irrelevant records from columns.\n",
        "      * Quality issues: in \"edit_status_name\" there are 190,210 records with quality issues. We will ommit them.\n",
        "      *  Only idividuals: we will focus on individuals hence from 'co_applicant_ethnicity_name' we only keep 'No co-applicant'\n",
        "\n",
        "  *   B) Excluding irrelevant columns:\n",
        "  \n",
        "  *   C) Excluding irrelevant records from:\n",
        "      *   applicant_ethnicity_name\n",
        "      *   applicant_race_name_1\n",
        "      *   applicant_sex_name\n",
        "      *   action_taken_name\n",
        "      \n",
        "  *   D) Addressing missing values\n",
        "\n",
        "4.   Exploratory Data Analysis\n",
        "  *   A) ds\n",
        "5.   Feature engineering\n",
        "  *   A) Feature creation\n",
        "\n",
        "  *   B) Feature\n",
        "\n",
        "\n",
        "\n"
      ],
      "metadata": {
        "id": "LFMypIHtsQNs"
      }
    },
    {
      "cell_type": "markdown",
      "metadata": {
        "id": "pTVcDhMaXEdL"
      },
      "source": [
        "# Step 1: Setup of working environment and libraries.\n",
        "\n"
      ]
    },
    {
      "cell_type": "markdown",
      "source": [
        "\n",
        "Note:\n",
        "\n",
        " *   !git init is for Google Colab environment, we should use \"subprocess.run([\"git\", \"init\"])\" which is more in line with PEP 8 doc. Style.\n",
        "\n",
        " *   We only use once \"git init\", when starting a new project. The purpose of this code is to create things related to the project in a .git directory in the project folder.\n",
        "\n",
        " *   subprocess.run([\"git\", \"init\"])"
      ],
      "metadata": {
        "id": "5WyR8xa6Rj5K"
      }
    },
    {
      "cell_type": "code",
      "execution_count": 47,
      "metadata": {
        "colab": {
          "base_uri": "https://localhost:8080/"
        },
        "id": "Uj-fKp-7WPDW",
        "outputId": "4a461a90-ad70-4e1b-9349-7c6c209ae663"
      },
      "outputs": [
        {
          "output_type": "stream",
          "name": "stdout",
          "text": [
            "Drive already mounted at /content/drive; to attempt to forcibly remount, call drive.mount(\"/content/drive\", force_remount=True).\n"
          ]
        }
      ],
      "source": [
        "# Mount google drive\n",
        "from google.colab import drive\n",
        "drive.mount('/content/drive')"
      ]
    },
    {
      "cell_type": "code",
      "execution_count": 48,
      "metadata": {
        "id": "1zI-rABvJCdu"
      },
      "outputs": [],
      "source": [
        "# Setting up GitHub\n",
        "import os\n",
        "import subprocess\n",
        "from getpass import getpass #Secure token storage\n",
        "\n",
        "# Importing working space\n",
        "import pandas as pd\n",
        "import numpy as np\n",
        "import matplotlib.pyplot as plt\n",
        "import seaborn as sns"
      ]
    },
    {
      "cell_type": "code",
      "execution_count": 48,
      "metadata": {
        "id": "4Eh9TF6RI-4h"
      },
      "outputs": [],
      "source": []
    },
    {
      "cell_type": "code",
      "execution_count": 49,
      "metadata": {
        "colab": {
          "base_uri": "https://localhost:8080/"
        },
        "id": "8iiY3fSmGPL2",
        "outputId": "bbfa684b-87fb-430d-e413-1c1f774174b9"
      },
      "outputs": [
        {
          "name": "stdout",
          "output_type": "stream",
          "text": [
            "Enter GitHub Token:··········\n"
          ]
        },
        {
          "output_type": "execute_result",
          "data": {
            "text/plain": [
              "0"
            ]
          },
          "metadata": {},
          "execution_count": 49
        }
      ],
      "source": [
        "# Username and email:\n",
        "subprocess.run([\"git\", \"config\", \"--global\", \"user.name\", \"AJLR888\"], check=True)\n",
        "subprocess.run([\"git\", \"config\", \"--global\", \"user.email\", \"roldan.analytics@gmail.com\"], check=True)\n",
        "\n",
        "\n",
        "# Storing GitHub token and repository details\n",
        "GITHUB_TOKEN = getpass(\"Enter GitHub Token:\")\n",
        "REPO_OWNER = \"AJLR888\"\n",
        "REPO_NAME = \"hmda-ny-2007-loan-default\"\n",
        "BRANCH_NAME = \"main\"\n",
        "\n",
        "#Setting GitHub remot URL with authentcation\n",
        "GIT_REMOTE_URL = f\"https://{GITHUB_TOKEN}@github.com/{REPO_OWNER}/{REPO_NAME}.git\"\n",
        "os.system(f\"git remote set-url origin {GIT_REMOTE_URL}\")"
      ]
    },
    {
      "cell_type": "code",
      "source": [
        "# Loading the data\n",
        "df = pd.read_csv('/content/drive/My Drive/Colab Notebooks/hmda_2007_ny_all-records_labels.csv')\n",
        "\n",
        "# Checking data size\n",
        "df = pd.DataFrame(df)\n"
      ],
      "metadata": {
        "colab": {
          "base_uri": "https://localhost:8080/"
        },
        "id": "7iG1PL8o8_w7",
        "outputId": "7def205a-9355-41ac-c1f8-d81a52827269"
      },
      "execution_count": 50,
      "outputs": [
        {
          "output_type": "stream",
          "name": "stderr",
          "text": [
            "<ipython-input-50-100f7bdf4485>:2: DtypeWarning: Columns (34,36,38,42,44,46,48) have mixed types. Specify dtype option on import or set low_memory=False.\n",
            "  df = pd.read_csv('/content/drive/My Drive/Colab Notebooks/hmda_2007_ny_all-records_labels.csv')\n"
          ]
        }
      ]
    },
    {
      "cell_type": "markdown",
      "source": [
        "# Step 2: General overview\n",
        "\n"
      ],
      "metadata": {
        "id": "LNlm0RSa1NBY"
      }
    },
    {
      "cell_type": "markdown",
      "source": [
        "## A)   Understanding of each feature. What does each feature describe?\n"
      ],
      "metadata": {
        "id": "GyNXlMIp2J9_"
      }
    },
    {
      "cell_type": "markdown",
      "source": [
        "\n",
        "\n",
        "1.   **as_of_year**: The year the mortgage was reported.\n",
        "2.   **respondent_id**: The lender.\n",
        "3.   **agency_name**: The regulatory agency responsible for overseeing the financial institution that reported the mortgage.\n",
        "4.   **agency_abbr**: Agency abrebiation name.\n",
        "\n",
        "5.   **agency_code**: The regulator that supervises the regulated lender that report the data.\n",
        "\n",
        "6.   **loan_type_name**:The type of covered loan or application (if covered). By covered mean, there is a mechanism to protect the lender.\n",
        "\n",
        "7.   **property_type_name**:\n",
        "\n",
        "  *   One to four-family (other than manufactured housing)\n",
        "  *   Manufactured housing\n",
        "  *   Multifamily\n",
        "\n",
        "\n",
        "8.   **loan_purpose_name**: What was the loan used for.\n",
        "\n",
        "9.   **owner_occupancy_name**: Whether the owner intend to live in the property or not.\n",
        "\n",
        "10.   **loan_amount_000s**\n",
        "\n",
        "11.   **preapproval_name**: Preapproval only applies to home purchase loans, not refinancing or home improvement loans.\n",
        "\n",
        "12.   **action_taken_name**: The final outcome of a loan application.\n",
        "\n",
        "13.   **msamd_name**: MSA stands for Metropolitan Statistical Area, is a region with a high population density at its core and close economic ties throught the area; MD stands for Metropolitan division, is a sub-region within a large MSA (used when the area is particularly populous).\n",
        "\n",
        "\n",
        "  *   *Considerations*:\n",
        "    *   If the property is outside of the MSA/MD area it may be blank/empty.\n",
        "    *   Helps analyze lending patterns, approval rates, and borrower demographics in specific regions.\n",
        "    *   msamd is broader, city or regional-level in comparison with census_tract_number. msamd is better use for housing trends or market segmentation for instance.\n",
        "\n",
        "14.   **census_tract_number**: is a small area. Designed to be socially and economically homogeneous. In other words, they are kind of neighbourhoods.\n",
        "\n",
        "16.   **purchaser_type_name**: Describes who purchased the loan in the secondary market after it was originated by the reporting institution.\n",
        "\n",
        "17.   **denial_reason_name_1**: Important to consider that if NA the loan was not denied.\n",
        "\n",
        "18.   **rate_spread:** The exra interest that a borrower pay compared to the \"best-qualified\" borrowers. Generally speaking it means higher risk although there are nuances to consider. e.g. someone can have a higher rate spread due to a bad credit score which doesn't reflect their ability and will to pay back.\n",
        "\n",
        "19.   **hoepa_status_name**: hoepa stands for Home Ownership and Equity Protection Act. is a law disgned to protect borrowers from predatory lending.\n",
        "  *   Considerations:\n",
        "    *   It can be used to track if high-cost loans are disproportionally targeted at vulnerable groups.\n",
        "\n",
        "20.   **lien_status_name**: Basically, it indicates whether the mortgage is secured or not.\n",
        "\n",
        "21.   **edit_status_name**: Are rules to assist filers in checking the accuracy of HMDA data prior to submission. Idicate if there are any accuracy(quality)issues.  \n",
        "    *   Note: In our dataset we have almost 200,000 records as **\"Quality edit failure only\"** which is indicative of some potentail data inconsistency.\n",
        "\n",
        "22.   **minority_population:** % of minority population to total tract population.\n",
        "\n",
        "23.   **hud_median_family_income:** Median family income for the MSA (metropolitan statistical area) or MD (metropolitan division)\n",
        "      *   Note: hud(Housing & Urban development).\n",
        "*   List item\n",
        "\n",
        "24.   **population**: total population in tract (tract ~ neighbourhood).\n",
        "\n",
        "25.   **tract_to_msamd_income:** Indicates how wealthy or poor a tract is compared to its surroundings areas. compares the median family income of the census tract to the median family income of the corresponding metropolitan statistical area MSA OR metropolitan division MD. Let's remember that a tract is inside of a MSA/MD.\n",
        "\n",
        "25.   **number_of_owner_occupied_units:** Total number of housing units in the census tract that are occupied by their owners rather than rented.\n",
        "\n",
        "26.   **number_of_1_to_4_family_units:** Indicates the number of housing units that are classified as single-family homes. The higher the number the less population density.\n",
        "\n",
        "--------------------------------------------------------------------------------\n",
        "\n",
        "Check the following sources for further undertanding:\n",
        "\n",
        "* Check filing instructions guide for further information: https://ffiec.cfpb.gov/documentation/fig/2024/overview\n",
        "\n",
        "* Glosary: https://www.ffiec.gov/hmda/glossary.htm#top\n",
        "\n",
        "* Original source: https://www.consumerfinance.gov/data-research/hmda/historic-data/?geo=nationwide&records=all-records&field_descriptions=labels\n",
        "\n",
        "* Check \"lar_record_codes.pdf\" from my GitHub for further Inf."
      ],
      "metadata": {
        "id": "_Emz10gW3mKW"
      }
    },
    {
      "cell_type": "markdown",
      "metadata": {
        "id": "JP4CbltfLxGN"
      },
      "source": [
        "##  B) Understanding the data"
      ]
    },
    {
      "cell_type": "code",
      "source": [
        "# Checking content in the columns\n",
        "pd.set_option('display.max_columns', None)\n",
        "print(df.head(5))"
      ],
      "metadata": {
        "colab": {
          "base_uri": "https://localhost:8080/"
        },
        "collapsed": true,
        "id": "dR397rvKO2aD",
        "outputId": "c5ea176c-b4d0-4a1a-8c1c-acbae011b1bf"
      },
      "execution_count": 51,
      "outputs": [
        {
          "output_type": "stream",
          "name": "stdout",
          "text": [
            "   as_of_year respondent_id                                  agency_name  \\\n",
            "0        2007    20-2096530    Office of the Comptroller of the Currency   \n",
            "1        2007    2085300005  Department of Housing and Urban Development   \n",
            "2        2007    20-2096530    Office of the Comptroller of the Currency   \n",
            "3        2007    0000003970                 Office of Thrift Supervision   \n",
            "4        2007    2085300005  Department of Housing and Urban Development   \n",
            "\n",
            "  agency_abbr  agency_code loan_type_name  loan_type  \\\n",
            "0         OCC            1   Conventional          1   \n",
            "1         HUD            7   Conventional          1   \n",
            "2         OCC            1   Conventional          1   \n",
            "3         OTS            4   Conventional          1   \n",
            "4         HUD            7   Conventional          1   \n",
            "\n",
            "                                  property_type_name  property_type  \\\n",
            "0  One-to-four family dwelling (other than manufa...              1   \n",
            "1  One-to-four family dwelling (other than manufa...              1   \n",
            "2  One-to-four family dwelling (other than manufa...              1   \n",
            "3  One-to-four family dwelling (other than manufa...              1   \n",
            "4  One-to-four family dwelling (other than manufa...              1   \n",
            "\n",
            "  loan_purpose_name  loan_purpose                    owner_occupancy_name  \\\n",
            "0  Home improvement             2  Owner-occupied as a principal dwelling   \n",
            "1       Refinancing             3  Owner-occupied as a principal dwelling   \n",
            "2  Home improvement             2  Owner-occupied as a principal dwelling   \n",
            "3       Refinancing             3  Owner-occupied as a principal dwelling   \n",
            "4       Refinancing             3  Owner-occupied as a principal dwelling   \n",
            "\n",
            "   owner_occupancy  loan_amount_000s preapproval_name  preapproval  \\\n",
            "0                1                54   Not applicable            3   \n",
            "1                1                60   Not applicable            3   \n",
            "2                1                56   Not applicable            3   \n",
            "3                1               374   Not applicable            3   \n",
            "4                1               158   Not applicable            3   \n",
            "\n",
            "                             action_taken_name  action_taken  \\\n",
            "0  Application denied by financial institution             3   \n",
            "1  Application denied by financial institution             3   \n",
            "2  Application denied by financial institution             3   \n",
            "3            Loan purchased by the institution             6   \n",
            "4  Application denied by financial institution             3   \n",
            "\n",
            "             msamd_name    msamd state_name state_abbr  state_code  \\\n",
            "0       Binghamton - NY  13780.0   New York         NY          36   \n",
            "1       Binghamton - NY  13780.0   New York         NY          36   \n",
            "2       Binghamton - NY  13780.0   New York         NY          36   \n",
            "3  Nassau, Suffolk - NY  35004.0   New York         NY          36   \n",
            "4       Binghamton - NY  13780.0   New York         NY          36   \n",
            "\n",
            "     county_name  county_code  census_tract_number applicant_ethnicity_name  \\\n",
            "0   Tioga County        107.0                206.0   Not Hispanic or Latino   \n",
            "1  Broome County          7.0                 17.0       Hispanic or Latino   \n",
            "2   Tioga County        107.0                206.0   Not Hispanic or Latino   \n",
            "3  Nassau County         59.0               4086.0           Not applicable   \n",
            "4  Broome County          7.0                125.0   Not Hispanic or Latino   \n",
            "\n",
            "   applicant_ethnicity co_applicant_ethnicity_name  co_applicant_ethnicity  \\\n",
            "0                    2             No co-applicant                       5   \n",
            "1                    1             No co-applicant                       5   \n",
            "2                    2             No co-applicant                       5   \n",
            "3                    4              Not applicable                       4   \n",
            "4                    2      Not Hispanic or Latino                       2   \n",
            "\n",
            "  applicant_race_name_1  applicant_race_1 applicant_race_name_2  \\\n",
            "0                 White                 5                   NaN   \n",
            "1                 White                 5                   NaN   \n",
            "2                 White                 5                   NaN   \n",
            "3        Not applicable                 7                   NaN   \n",
            "4                 White                 5                   NaN   \n",
            "\n",
            "   applicant_race_2 applicant_race_name_3  applicant_race_3  \\\n",
            "0               NaN                   NaN               NaN   \n",
            "1               NaN                   NaN               NaN   \n",
            "2               NaN                   NaN               NaN   \n",
            "3               NaN                   NaN               NaN   \n",
            "4               NaN                   NaN               NaN   \n",
            "\n",
            "  applicant_race_name_4  applicant_race_4 applicant_race_name_5  \\\n",
            "0                   NaN               NaN                   NaN   \n",
            "1                   NaN               NaN                   NaN   \n",
            "2                   NaN               NaN                   NaN   \n",
            "3                   NaN               NaN                   NaN   \n",
            "4                   NaN               NaN                   NaN   \n",
            "\n",
            "   applicant_race_5 co_applicant_race_name_1  co_applicant_race_1  \\\n",
            "0               NaN          No co-applicant                    8   \n",
            "1               NaN          No co-applicant                    8   \n",
            "2               NaN          No co-applicant                    8   \n",
            "3               NaN           Not applicable                    7   \n",
            "4               NaN                    White                    5   \n",
            "\n",
            "  co_applicant_race_name_2  co_applicant_race_2 co_applicant_race_name_3  \\\n",
            "0                      NaN                  NaN                      NaN   \n",
            "1                      NaN                  NaN                      NaN   \n",
            "2                      NaN                  NaN                      NaN   \n",
            "3                      NaN                  NaN                      NaN   \n",
            "4                      NaN                  NaN                      NaN   \n",
            "\n",
            "   co_applicant_race_3 co_applicant_race_name_4  co_applicant_race_4  \\\n",
            "0                  NaN                      NaN                  NaN   \n",
            "1                  NaN                      NaN                  NaN   \n",
            "2                  NaN                      NaN                  NaN   \n",
            "3                  NaN                      NaN                  NaN   \n",
            "4                  NaN                      NaN                  NaN   \n",
            "\n",
            "  co_applicant_race_name_5  co_applicant_race_5  \\\n",
            "0                      NaN                  NaN   \n",
            "1                      NaN                  NaN   \n",
            "2                      NaN                  NaN   \n",
            "3                      NaN                  NaN   \n",
            "4                      NaN                  NaN   \n",
            "\n",
            "                                  applicant_sex_name  applicant_sex  \\\n",
            "0                                               Male              1   \n",
            "1  Information not provided by applicant in mail,...              3   \n",
            "2                                               Male              1   \n",
            "3                                     Not applicable              4   \n",
            "4  Information not provided by applicant in mail,...              3   \n",
            "\n",
            "                               co_applicant_sex_name  co_applicant_sex  \\\n",
            "0                                    No co-applicant                 5   \n",
            "1                                    No co-applicant                 5   \n",
            "2                                    No co-applicant                 5   \n",
            "3                                     Not applicable                 4   \n",
            "4  Information not provided by applicant in mail,...                 3   \n",
            "\n",
            "   applicant_income_000s                                purchaser_type_name  \\\n",
            "0                   16.0  Loan was not originated or was not sold in cal...   \n",
            "1                   36.0  Loan was not originated or was not sold in cal...   \n",
            "2                   66.0  Loan was not originated or was not sold in cal...   \n",
            "3                    NaN  Commercial bank, savings bank or savings assoc...   \n",
            "4                   62.0  Loan was not originated or was not sold in cal...   \n",
            "\n",
            "   purchaser_type           denial_reason_name_1  denial_reason_1  \\\n",
            "0               0                     Collateral              4.0   \n",
            "1               0                            NaN              NaN   \n",
            "2               0  Credit application incomplete              7.0   \n",
            "3               6                            NaN              NaN   \n",
            "4               0                            NaN              NaN   \n",
            "\n",
            "  denial_reason_name_2  denial_reason_2 denial_reason_name_3  denial_reason_3  \\\n",
            "0                  NaN              NaN                  NaN              NaN   \n",
            "1                  NaN              NaN                  NaN              NaN   \n",
            "2                  NaN              NaN                  NaN              NaN   \n",
            "3                  NaN              NaN                  NaN              NaN   \n",
            "4                  NaN              NaN                  NaN              NaN   \n",
            "\n",
            "   rate_spread hoepa_status_name  hoepa_status               lien_status_name  \\\n",
            "0          NaN  Not a HOEPA loan             2        Secured by a first lien   \n",
            "1          NaN  Not a HOEPA loan             2        Secured by a first lien   \n",
            "2          NaN  Not a HOEPA loan             2  Secured by a subordinate lien   \n",
            "3          NaN  Not a HOEPA loan             2                 Not applicable   \n",
            "4          NaN  Not a HOEPA loan             2        Secured by a first lien   \n",
            "\n",
            "   lien_status edit_status_name  edit_status  sequence_number  population  \\\n",
            "0            1              NaN          NaN            13711      7424.0   \n",
            "1            1              NaN          NaN            10815      4302.0   \n",
            "2            2              NaN          NaN            13712      7424.0   \n",
            "3            4              NaN          NaN           174127      4497.0   \n",
            "4            1              NaN          NaN            10823      6421.0   \n",
            "\n",
            "   minority_population  hud_median_family_income  tract_to_msamd_income  \\\n",
            "0                 2.25                   52800.0              91.790001   \n",
            "1                14.16                   52800.0              94.230003   \n",
            "2                 2.25                   52800.0              91.790001   \n",
            "3                11.12                   93800.0              97.110001   \n",
            "4                 2.59                   52800.0              93.949997   \n",
            "\n",
            "   number_of_owner_occupied_units  number_of_1_to_4_family_units  \\\n",
            "0                          2259.0                         3030.0   \n",
            "1                          1033.0                         1823.0   \n",
            "2                          2259.0                         3030.0   \n",
            "3                          1341.0                         1459.0   \n",
            "4                          1926.0                         2669.0   \n",
            "\n",
            "   application_date_indicator  \n",
            "0                           0  \n",
            "1                           0  \n",
            "2                           0  \n",
            "3                           2  \n",
            "4                           0  \n"
          ]
        }
      ]
    },
    {
      "cell_type": "code",
      "source": [
        "# Force to dislplay all rows\n",
        "pd.set_option('display.max_rows', None)\n",
        "\n",
        "# Data types\n",
        "print(df.dtypes)"
      ],
      "metadata": {
        "colab": {
          "base_uri": "https://localhost:8080/"
        },
        "collapsed": true,
        "id": "4LEvrdMUOG_l",
        "outputId": "6c1fba21-2a63-4cb1-abb7-efafefdebbe7"
      },
      "execution_count": 52,
      "outputs": [
        {
          "output_type": "stream",
          "name": "stdout",
          "text": [
            "as_of_year                          int64\n",
            "respondent_id                      object\n",
            "agency_name                        object\n",
            "agency_abbr                        object\n",
            "agency_code                         int64\n",
            "loan_type_name                     object\n",
            "loan_type                           int64\n",
            "property_type_name                 object\n",
            "property_type                       int64\n",
            "loan_purpose_name                  object\n",
            "loan_purpose                        int64\n",
            "owner_occupancy_name               object\n",
            "owner_occupancy                     int64\n",
            "loan_amount_000s                    int64\n",
            "preapproval_name                   object\n",
            "preapproval                         int64\n",
            "action_taken_name                  object\n",
            "action_taken                        int64\n",
            "msamd_name                         object\n",
            "msamd                             float64\n",
            "state_name                         object\n",
            "state_abbr                         object\n",
            "state_code                          int64\n",
            "county_name                        object\n",
            "county_code                       float64\n",
            "census_tract_number               float64\n",
            "applicant_ethnicity_name           object\n",
            "applicant_ethnicity                 int64\n",
            "co_applicant_ethnicity_name        object\n",
            "co_applicant_ethnicity              int64\n",
            "applicant_race_name_1              object\n",
            "applicant_race_1                    int64\n",
            "applicant_race_name_2              object\n",
            "applicant_race_2                  float64\n",
            "applicant_race_name_3              object\n",
            "applicant_race_3                  float64\n",
            "applicant_race_name_4              object\n",
            "applicant_race_4                  float64\n",
            "applicant_race_name_5              object\n",
            "applicant_race_5                  float64\n",
            "co_applicant_race_name_1           object\n",
            "co_applicant_race_1                 int64\n",
            "co_applicant_race_name_2           object\n",
            "co_applicant_race_2               float64\n",
            "co_applicant_race_name_3           object\n",
            "co_applicant_race_3               float64\n",
            "co_applicant_race_name_4           object\n",
            "co_applicant_race_4               float64\n",
            "co_applicant_race_name_5           object\n",
            "co_applicant_race_5               float64\n",
            "applicant_sex_name                 object\n",
            "applicant_sex                       int64\n",
            "co_applicant_sex_name              object\n",
            "co_applicant_sex                    int64\n",
            "applicant_income_000s             float64\n",
            "purchaser_type_name                object\n",
            "purchaser_type                      int64\n",
            "denial_reason_name_1               object\n",
            "denial_reason_1                   float64\n",
            "denial_reason_name_2               object\n",
            "denial_reason_2                   float64\n",
            "denial_reason_name_3               object\n",
            "denial_reason_3                   float64\n",
            "rate_spread                       float64\n",
            "hoepa_status_name                  object\n",
            "hoepa_status                        int64\n",
            "lien_status_name                   object\n",
            "lien_status                         int64\n",
            "edit_status_name                   object\n",
            "edit_status                       float64\n",
            "sequence_number                     int64\n",
            "population                        float64\n",
            "minority_population               float64\n",
            "hud_median_family_income          float64\n",
            "tract_to_msamd_income             float64\n",
            "number_of_owner_occupied_units    float64\n",
            "number_of_1_to_4_family_units     float64\n",
            "application_date_indicator          int64\n",
            "dtype: object\n"
          ]
        }
      ]
    },
    {
      "cell_type": "code",
      "source": [
        "# Null values\n",
        "print(df.isnull().sum())"
      ],
      "metadata": {
        "colab": {
          "base_uri": "https://localhost:8080/"
        },
        "collapsed": true,
        "id": "OJEGqpq3Oi3e",
        "outputId": "996c08f8-6336-428d-aedc-6efebe3e151a"
      },
      "execution_count": 53,
      "outputs": [
        {
          "output_type": "stream",
          "name": "stdout",
          "text": [
            "as_of_year                              0\n",
            "respondent_id                           0\n",
            "agency_name                             0\n",
            "agency_abbr                             0\n",
            "agency_code                             0\n",
            "loan_type_name                          0\n",
            "loan_type                               0\n",
            "property_type_name                      0\n",
            "property_type                           0\n",
            "loan_purpose_name                       0\n",
            "loan_purpose                            0\n",
            "owner_occupancy_name                    0\n",
            "owner_occupancy                         0\n",
            "loan_amount_000s                        0\n",
            "preapproval_name                        0\n",
            "preapproval                             0\n",
            "action_taken_name                       0\n",
            "action_taken                            0\n",
            "msamd_name                          92920\n",
            "msamd                               92920\n",
            "state_name                              0\n",
            "state_abbr                              0\n",
            "state_code                              0\n",
            "county_name                          1007\n",
            "county_code                          1007\n",
            "census_tract_number                  1370\n",
            "applicant_ethnicity_name                0\n",
            "applicant_ethnicity                     0\n",
            "co_applicant_ethnicity_name             0\n",
            "co_applicant_ethnicity                  0\n",
            "applicant_race_name_1                   0\n",
            "applicant_race_1                        0\n",
            "applicant_race_name_2             1006430\n",
            "applicant_race_2                  1006430\n",
            "applicant_race_name_3             1009259\n",
            "applicant_race_3                  1009259\n",
            "applicant_race_name_4             1009369\n",
            "applicant_race_4                  1009369\n",
            "applicant_race_name_5             1009386\n",
            "applicant_race_5                  1009386\n",
            "co_applicant_race_name_1                0\n",
            "co_applicant_race_1                     0\n",
            "co_applicant_race_name_2          1008514\n",
            "co_applicant_race_2               1008514\n",
            "co_applicant_race_name_3          1009393\n",
            "co_applicant_race_3               1009393\n",
            "co_applicant_race_name_4          1009417\n",
            "co_applicant_race_4               1009417\n",
            "co_applicant_race_name_5          1009427\n",
            "co_applicant_race_5               1009427\n",
            "applicant_sex_name                      0\n",
            "applicant_sex                           0\n",
            "co_applicant_sex_name                   0\n",
            "co_applicant_sex                        0\n",
            "applicant_income_000s               88875\n",
            "purchaser_type_name                     0\n",
            "purchaser_type                          0\n",
            "denial_reason_name_1               828980\n",
            "denial_reason_1                    828980\n",
            "denial_reason_name_2               971378\n",
            "denial_reason_2                    971378\n",
            "denial_reason_name_3              1002497\n",
            "denial_reason_3                   1002497\n",
            "rate_spread                        939632\n",
            "hoepa_status_name                       0\n",
            "hoepa_status                            0\n",
            "lien_status_name                        0\n",
            "lien_status                             0\n",
            "edit_status_name                   819241\n",
            "edit_status                        819241\n",
            "sequence_number                         0\n",
            "population                           1466\n",
            "minority_population                  1477\n",
            "hud_median_family_income             1418\n",
            "tract_to_msamd_income                1745\n",
            "number_of_owner_occupied_units       3093\n",
            "number_of_1_to_4_family_units        2965\n",
            "application_date_indicator              0\n",
            "dtype: int64\n"
          ]
        }
      ]
    },
    {
      "cell_type": "code",
      "source": [
        "# Unique values for categorical variables\n",
        "categorical_columns = df.select_dtypes(include=['object']).columns\n",
        "for col in categorical_columns:\n",
        "  print(f\"Value counts for: {col}\")\n",
        "  print(df[col].value_counts(), \"\\n\")\n",
        "  print(\"\\n\" + \"=+\"*50 + \"\\n\")"
      ],
      "metadata": {
        "id": "Ma7r8CwB7Ekf",
        "colab": {
          "base_uri": "https://localhost:8080/"
        },
        "outputId": "66995a3e-9b89-44d2-e8a2-f4e8c9743aea",
        "collapsed": true
      },
      "execution_count": 74,
      "outputs": [
        {
          "output_type": "stream",
          "name": "stdout",
          "text": [
            "Value counts for: loan_type_name\n",
            "loan_type_name\n",
            "Conventional          304712\n",
            "FHA-insured            12637\n",
            "VA-guaranteed           1211\n",
            "FSA/RHS-guaranteed       281\n",
            "Name: count, dtype: int64 \n",
            "\n",
            "\n",
            "=+=+=+=+=+=+=+=+=+=+=+=+=+=+=+=+=+=+=+=+=+=+=+=+=+=+=+=+=+=+=+=+=+=+=+=+=+=+=+=+=+=+=+=+=+=+=+=+=+=+\n",
            "\n",
            "Value counts for: property_type_name\n",
            "property_type_name\n",
            "One-to-four family dwelling (other than manufactured housing)    313554\n",
            "Manufactured housing                                               5287\n",
            "Name: count, dtype: int64 \n",
            "\n",
            "\n",
            "=+=+=+=+=+=+=+=+=+=+=+=+=+=+=+=+=+=+=+=+=+=+=+=+=+=+=+=+=+=+=+=+=+=+=+=+=+=+=+=+=+=+=+=+=+=+=+=+=+=+\n",
            "\n",
            "Value counts for: loan_purpose_name\n",
            "loan_purpose_name\n",
            "Home purchase       138880\n",
            "Refinancing         133651\n",
            "Home improvement     46310\n",
            "Name: count, dtype: int64 \n",
            "\n",
            "\n",
            "=+=+=+=+=+=+=+=+=+=+=+=+=+=+=+=+=+=+=+=+=+=+=+=+=+=+=+=+=+=+=+=+=+=+=+=+=+=+=+=+=+=+=+=+=+=+=+=+=+=+\n",
            "\n",
            "Value counts for: action_taken_name\n",
            "action_taken_name\n",
            "Loan originated                                148863\n",
            "Application denied by financial institution    108294\n",
            "Application approved but not accepted           31152\n",
            "Loan purchased by the institution               30532\n",
            "Name: count, dtype: int64 \n",
            "\n",
            "\n",
            "=+=+=+=+=+=+=+=+=+=+=+=+=+=+=+=+=+=+=+=+=+=+=+=+=+=+=+=+=+=+=+=+=+=+=+=+=+=+=+=+=+=+=+=+=+=+=+=+=+=+\n",
            "\n",
            "Value counts for: msamd_name\n",
            "msamd_name\n",
            "New York, White Plains, Wayne - NY, NJ     122858\n",
            "Nassau, Suffolk - NY                        53808\n",
            "Unknown                                     33468\n",
            "Rochester - NY                              21809\n",
            "Buffalo, Niagara Falls - NY                 20649\n",
            "Albany, Schenectady, Troy - NY              18609\n",
            "Syracuse - NY                               14110\n",
            "Poughkeepsie, Newburgh, Middletown - NY     13240\n",
            "Utica, Rome - NY                             6192\n",
            "Binghamton - NY                              4537\n",
            "Kingston - NY                                3434\n",
            "Glens Falls - NY                             3230\n",
            "Elmira - NY                                  1575\n",
            "Ithaca - NY                                  1322\n",
            "Name: count, dtype: int64 \n",
            "\n",
            "\n",
            "=+=+=+=+=+=+=+=+=+=+=+=+=+=+=+=+=+=+=+=+=+=+=+=+=+=+=+=+=+=+=+=+=+=+=+=+=+=+=+=+=+=+=+=+=+=+=+=+=+=+\n",
            "\n",
            "Value counts for: hoepa_status_name\n",
            "hoepa_status_name\n",
            "Not a HOEPA loan    318822\n",
            "HOEPA loan              19\n",
            "Name: count, dtype: int64 \n",
            "\n",
            "\n",
            "=+=+=+=+=+=+=+=+=+=+=+=+=+=+=+=+=+=+=+=+=+=+=+=+=+=+=+=+=+=+=+=+=+=+=+=+=+=+=+=+=+=+=+=+=+=+=+=+=+=+\n",
            "\n",
            "Value counts for: applicant_ethnicity_name\n",
            "applicant_ethnicity_name\n",
            "Not Hispanic or Latino    286418\n",
            "Hispanic or Latino         32423\n",
            "Name: count, dtype: int64 \n",
            "\n",
            "\n",
            "=+=+=+=+=+=+=+=+=+=+=+=+=+=+=+=+=+=+=+=+=+=+=+=+=+=+=+=+=+=+=+=+=+=+=+=+=+=+=+=+=+=+=+=+=+=+=+=+=+=+\n",
            "\n",
            "Value counts for: applicant_race_name_1\n",
            "applicant_race_name_1\n",
            "White                                        240108\n",
            "Black or African American                     51044\n",
            "Asian                                         22881\n",
            "American Indian or Alaska Native               2467\n",
            "Native Hawaiian or Other Pacific Islander      2341\n",
            "Name: count, dtype: int64 \n",
            "\n",
            "\n",
            "=+=+=+=+=+=+=+=+=+=+=+=+=+=+=+=+=+=+=+=+=+=+=+=+=+=+=+=+=+=+=+=+=+=+=+=+=+=+=+=+=+=+=+=+=+=+=+=+=+=+\n",
            "\n",
            "Value counts for: applicant_sex_name\n",
            "applicant_sex_name\n",
            "Male      184051\n",
            "Female    134790\n",
            "Name: count, dtype: int64 \n",
            "\n",
            "\n",
            "=+=+=+=+=+=+=+=+=+=+=+=+=+=+=+=+=+=+=+=+=+=+=+=+=+=+=+=+=+=+=+=+=+=+=+=+=+=+=+=+=+=+=+=+=+=+=+=+=+=+\n",
            "\n",
            "Value counts for: denial_reason_name_1\n",
            "denial_reason_name_1\n",
            "Unknown                                           248033\n",
            "Credit history                                     16222\n",
            "Debt-to-income ratio                               13625\n",
            "Other                                              12718\n",
            "Credit application incomplete                      10892\n",
            "Collateral                                         10781\n",
            "Unverifiable information                            4639\n",
            "Insufficient cash (downpayment, closing costs)      1110\n",
            "Employment history                                   766\n",
            "Mortgage insurance denied                             55\n",
            "Name: count, dtype: int64 \n",
            "\n",
            "\n",
            "=+=+=+=+=+=+=+=+=+=+=+=+=+=+=+=+=+=+=+=+=+=+=+=+=+=+=+=+=+=+=+=+=+=+=+=+=+=+=+=+=+=+=+=+=+=+=+=+=+=+\n",
            "\n",
            "Value counts for: lien_status_name\n",
            "lien_status_name\n",
            "Secured by a first lien          225909\n",
            "Secured by a subordinate lien     47880\n",
            "Not applicable                    30532\n",
            "Not secured by a lien             14520\n",
            "Name: count, dtype: int64 \n",
            "\n",
            "\n",
            "=+=+=+=+=+=+=+=+=+=+=+=+=+=+=+=+=+=+=+=+=+=+=+=+=+=+=+=+=+=+=+=+=+=+=+=+=+=+=+=+=+=+=+=+=+=+=+=+=+=+\n",
            "\n"
          ]
        }
      ]
    },
    {
      "cell_type": "markdown",
      "source": [
        "# Step 3: Data cleaning"
      ],
      "metadata": {
        "id": "fif0ECAv1PY0"
      }
    },
    {
      "cell_type": "markdown",
      "source": [
        "## C) Excluding irrelevant records from columns"
      ],
      "metadata": {
        "id": "fy7Hq8T2ayq-"
      }
    },
    {
      "cell_type": "code",
      "source": [
        "# Records/columns\n",
        "df.shape"
      ],
      "metadata": {
        "colab": {
          "base_uri": "https://localhost:8080/"
        },
        "id": "0ClGQMKPZZkS",
        "outputId": "d4eba0d9-7896-4922-b16a-193429aaa739"
      },
      "execution_count": 55,
      "outputs": [
        {
          "output_type": "execute_result",
          "data": {
            "text/plain": [
              "(1009451, 78)"
            ]
          },
          "metadata": {},
          "execution_count": 55
        }
      ]
    },
    {
      "cell_type": "code",
      "source": [
        "# Quality issues: There are 190210 records with quality issues. We will ommit them.\n",
        "df = df[~df[\"edit_status_name\"].isin([\"Quality edit failure only\"])]\n",
        "\n",
        "# Our focus is on individuals hence we will focus on data with \"No co-applicant\"\n",
        "df = df[df['co_applicant_ethnicity_name'] == 'No co-applicant']"
      ],
      "metadata": {
        "id": "mkDn-V3jY0T8"
      },
      "execution_count": 56,
      "outputs": []
    },
    {
      "cell_type": "code",
      "source": [
        "# Records/shape\n",
        "df.shape"
      ],
      "metadata": {
        "colab": {
          "base_uri": "https://localhost:8080/"
        },
        "id": "LreAvZj0Zia6",
        "outputId": "c761621e-573f-4069-e077-43ed4a5b3923"
      },
      "execution_count": 57,
      "outputs": [
        {
          "output_type": "execute_result",
          "data": {
            "text/plain": [
              "(472701, 78)"
            ]
          },
          "metadata": {},
          "execution_count": 57
        }
      ]
    },
    {
      "cell_type": "markdown",
      "source": [
        "## E) Excluding irrelevant records from the following columns:\n",
        "\n",
        "*   applicant_ethnicity_name\n",
        "*   applicant_race_name_1\n",
        "*   applicant_sex_name\n",
        "*   action_taken_name"
      ],
      "metadata": {
        "id": "_BH10u30SL97"
      }
    },
    {
      "cell_type": "code",
      "execution_count": 58,
      "metadata": {
        "id": "WGhUBwpGaiDR"
      },
      "outputs": [],
      "source": [
        "df = df[\n",
        "    ~df[\"action_taken_name\"].isin([\n",
        "        \"File closed for incompleteness\",\n",
        "        \"Preapproval request denied by financial institution\",\n",
        "        \"Preapproval request approved but not accepted\",\n",
        "        \"Application withdrawn by applicant\"\n",
        "    ]) &\n",
        "    ~df[\"applicant_ethnicity_name\"].isin([\n",
        "        \"Information not provided by applicant in mail, Internet, or telephone application\",\n",
        "        \"Not applicable\"\n",
        "    ]) &\n",
        "    ~df[\"applicant_race_name_1\"].isin([\n",
        "        \"Information not provided by applicant in mail, Internet, or telephone application\",\n",
        "        \"Not applicable\"\n",
        "    ]) &\n",
        "    ~df[\"applicant_sex_name\"].isin([\n",
        "        \"Information not provided by applicant in mail, Internet, or telephone application\",\n",
        "        \"Not applicable\"\n",
        "    ])\n",
        "]\n"
      ]
    },
    {
      "cell_type": "code",
      "execution_count": 59,
      "metadata": {
        "colab": {
          "base_uri": "https://localhost:8080/"
        },
        "id": "nApOTrwFbgzx",
        "outputId": "cba4b0e4-f8e2-4287-aaea-cdf53db0c6b4"
      },
      "outputs": [
        {
          "output_type": "stream",
          "name": "stdout",
          "text": [
            "(323044, 78)\n"
          ]
        }
      ],
      "source": [
        "print(df.shape)"
      ]
    },
    {
      "cell_type": "markdown",
      "metadata": {
        "id": "jmRW-3zKdEs9"
      },
      "source": [
        "## F) Addressing missing values"
      ]
    },
    {
      "cell_type": "code",
      "execution_count": 60,
      "metadata": {
        "colab": {
          "base_uri": "https://localhost:8080/"
        },
        "id": "ez6N3C1KdJW9",
        "outputId": "3ac0b7f1-969b-45fe-a13d-1010e10215be",
        "collapsed": true
      },
      "outputs": [
        {
          "output_type": "stream",
          "name": "stdout",
          "text": [
            "as_of_year                             0\n",
            "respondent_id                          0\n",
            "agency_name                            0\n",
            "agency_abbr                            0\n",
            "agency_code                            0\n",
            "loan_type_name                         0\n",
            "loan_type                              0\n",
            "property_type_name                     0\n",
            "property_type                          0\n",
            "loan_purpose_name                      0\n",
            "loan_purpose                           0\n",
            "owner_occupancy_name                   0\n",
            "owner_occupancy                        0\n",
            "loan_amount_000s                       0\n",
            "preapproval_name                       0\n",
            "preapproval                            0\n",
            "action_taken_name                      0\n",
            "action_taken                           0\n",
            "msamd_name                         34069\n",
            "msamd                              34069\n",
            "state_name                             0\n",
            "state_abbr                             0\n",
            "state_code                             0\n",
            "county_name                          357\n",
            "county_code                          357\n",
            "census_tract_number                  460\n",
            "applicant_ethnicity_name               0\n",
            "applicant_ethnicity                    0\n",
            "co_applicant_ethnicity_name            0\n",
            "co_applicant_ethnicity                 0\n",
            "applicant_race_name_1                  0\n",
            "applicant_race_1                       0\n",
            "applicant_race_name_2             321711\n",
            "applicant_race_2                  321711\n",
            "applicant_race_name_3             322955\n",
            "applicant_race_3                  322955\n",
            "applicant_race_name_4             323019\n",
            "applicant_race_4                  323019\n",
            "applicant_race_name_5             323027\n",
            "applicant_race_5                  323027\n",
            "co_applicant_race_name_1               0\n",
            "co_applicant_race_1                    0\n",
            "co_applicant_race_name_2          323044\n",
            "co_applicant_race_2               323044\n",
            "co_applicant_race_name_3          323044\n",
            "co_applicant_race_3               323044\n",
            "co_applicant_race_name_4          323044\n",
            "co_applicant_race_4               323044\n",
            "co_applicant_race_name_5          323044\n",
            "co_applicant_race_5               323044\n",
            "applicant_sex_name                     0\n",
            "applicant_sex                          0\n",
            "co_applicant_sex_name                  0\n",
            "co_applicant_sex                       0\n",
            "applicant_income_000s               2719\n",
            "purchaser_type_name                    0\n",
            "purchaser_type                         0\n",
            "denial_reason_name_1              251827\n",
            "denial_reason_1                   251827\n",
            "denial_reason_name_2              308294\n",
            "denial_reason_2                   308294\n",
            "denial_reason_name_3              320397\n",
            "denial_reason_3                   320397\n",
            "rate_spread                       295313\n",
            "hoepa_status_name                      0\n",
            "hoepa_status                           0\n",
            "lien_status_name                       0\n",
            "lien_status                            0\n",
            "edit_status_name                  323044\n",
            "edit_status                       323044\n",
            "sequence_number                        0\n",
            "population                           507\n",
            "minority_population                  511\n",
            "hud_median_family_income             484\n",
            "tract_to_msamd_income                585\n",
            "number_of_owner_occupied_units      1092\n",
            "number_of_1_to_4_family_units        967\n",
            "application_date_indicator             0\n",
            "dtype: int64\n"
          ]
        }
      ],
      "source": [
        "print(df.isnull().sum())"
      ]
    },
    {
      "cell_type": "markdown",
      "source": [
        "### Filling and dropping"
      ],
      "metadata": {
        "id": "xBMC7udkXoDG"
      }
    },
    {
      "cell_type": "code",
      "execution_count": 61,
      "metadata": {
        "id": "pwGTnPkUfttH"
      },
      "outputs": [],
      "source": [
        "df = df.assign(\n",
        "    msamd_name=df['msamd_name'].fillna(\"Unknown\"),\n",
        "    denial_reason_name_1=df['denial_reason_name_1'].fillna(\"Unknown\"),\n",
        "    rate_spread=df['rate_spread'].fillna(0)\n",
        ")\n",
        "\n",
        "df = df.dropna(subset=['county_name',\n",
        "                       'census_tract_number',\n",
        "                       'applicant_income_000s',\n",
        "                       'minority_population',\n",
        "                       'hud_median_family_income',\n",
        "                       'tract_to_msamd_income',\n",
        "                       'number_of_owner_occupied_units',\n",
        "                       'number_of_1_to_4_family_units'\n",
        "                       ]\n",
        "               )\n"
      ]
    },
    {
      "cell_type": "code",
      "source": [
        "print(df.isnull().sum())"
      ],
      "metadata": {
        "colab": {
          "base_uri": "https://localhost:8080/"
        },
        "collapsed": true,
        "id": "IHvQif3Zbm3d",
        "outputId": "468cd624-a5fd-4a98-ce1d-1667698c078d"
      },
      "execution_count": 62,
      "outputs": [
        {
          "output_type": "stream",
          "name": "stdout",
          "text": [
            "as_of_year                             0\n",
            "respondent_id                          0\n",
            "agency_name                            0\n",
            "agency_abbr                            0\n",
            "agency_code                            0\n",
            "loan_type_name                         0\n",
            "loan_type                              0\n",
            "property_type_name                     0\n",
            "property_type                          0\n",
            "loan_purpose_name                      0\n",
            "loan_purpose                           0\n",
            "owner_occupancy_name                   0\n",
            "owner_occupancy                        0\n",
            "loan_amount_000s                       0\n",
            "preapproval_name                       0\n",
            "preapproval                            0\n",
            "action_taken_name                      0\n",
            "action_taken                           0\n",
            "msamd_name                             0\n",
            "msamd                              33468\n",
            "state_name                             0\n",
            "state_abbr                             0\n",
            "state_code                             0\n",
            "county_name                            0\n",
            "county_code                            0\n",
            "census_tract_number                    0\n",
            "applicant_ethnicity_name               0\n",
            "applicant_ethnicity                    0\n",
            "co_applicant_ethnicity_name            0\n",
            "co_applicant_ethnicity                 0\n",
            "applicant_race_name_1                  0\n",
            "applicant_race_1                       0\n",
            "applicant_race_name_2             317520\n",
            "applicant_race_2                  317520\n",
            "applicant_race_name_3             318752\n",
            "applicant_race_3                  318752\n",
            "applicant_race_name_4             318816\n",
            "applicant_race_4                  318816\n",
            "applicant_race_name_5             318824\n",
            "applicant_race_5                  318824\n",
            "co_applicant_race_name_1               0\n",
            "co_applicant_race_1                    0\n",
            "co_applicant_race_name_2          318841\n",
            "co_applicant_race_2               318841\n",
            "co_applicant_race_name_3          318841\n",
            "co_applicant_race_3               318841\n",
            "co_applicant_race_name_4          318841\n",
            "co_applicant_race_4               318841\n",
            "co_applicant_race_name_5          318841\n",
            "co_applicant_race_5               318841\n",
            "applicant_sex_name                     0\n",
            "applicant_sex                          0\n",
            "co_applicant_sex_name                  0\n",
            "co_applicant_sex                       0\n",
            "applicant_income_000s                  0\n",
            "purchaser_type_name                    0\n",
            "purchaser_type                         0\n",
            "denial_reason_name_1                   0\n",
            "denial_reason_1                   248033\n",
            "denial_reason_name_2              304184\n",
            "denial_reason_2                   304184\n",
            "denial_reason_name_3              316221\n",
            "denial_reason_3                   316221\n",
            "rate_spread                            0\n",
            "hoepa_status_name                      0\n",
            "hoepa_status                           0\n",
            "lien_status_name                       0\n",
            "lien_status                            0\n",
            "edit_status_name                  318841\n",
            "edit_status                       318841\n",
            "sequence_number                        0\n",
            "population                             0\n",
            "minority_population                    0\n",
            "hud_median_family_income               0\n",
            "tract_to_msamd_income                  0\n",
            "number_of_owner_occupied_units         0\n",
            "number_of_1_to_4_family_units          0\n",
            "application_date_indicator             0\n",
            "dtype: int64\n"
          ]
        }
      ]
    },
    {
      "cell_type": "markdown",
      "source": [],
      "metadata": {
        "id": "VFKij2ql1osV"
      }
    },
    {
      "cell_type": "markdown",
      "metadata": {
        "id": "LnVi5W_zMvUS"
      },
      "source": [
        "# Step 4: Exploratory Data Analysis"
      ]
    },
    {
      "cell_type": "markdown",
      "source": [
        "# Step 5: Feature engineering"
      ],
      "metadata": {
        "id": "1bpxepp_3Wui"
      }
    },
    {
      "cell_type": "markdown",
      "metadata": {
        "id": "i5-0VTy_pFwb"
      },
      "source": [
        "## A) Feature creation\n"
      ]
    },
    {
      "cell_type": "code",
      "source": [
        "# Creation of loan_to_income_ratio column:\n",
        "df['loan_to_income_ratio'] = (df['loan_amount_000s'] / df['applicant_income_000s']).round(2)\n",
        "\n",
        "# Checking\n",
        "print(df['loan_to_income_ratio'].head())\n",
        "\n",
        "# Note: Figures below represent the times of their annual income.\n",
        "# E.g. 3.10, means that the loan amount is 3.10 times their annual income."
      ],
      "metadata": {
        "colab": {
          "base_uri": "https://localhost:8080/"
        },
        "id": "RDRFmeTelPWj",
        "outputId": "c5bed4e7-ffd6-4af2-d811-5010c04efd8b"
      },
      "execution_count": 76,
      "outputs": [
        {
          "output_type": "stream",
          "name": "stdout",
          "text": [
            "0    3.38\n",
            "2    0.85\n",
            "5    3.07\n",
            "6    1.76\n",
            "7    1.33\n",
            "Name: loan_to_income_ratio, dtype: float64\n"
          ]
        }
      ]
    },
    {
      "cell_type": "code",
      "execution_count": 64,
      "metadata": {
        "colab": {
          "base_uri": "https://localhost:8080/"
        },
        "id": "2ax5jwGmpUPV",
        "outputId": "f02bdfde-717c-411a-c83e-0df5dcb45a2f"
      },
      "outputs": [
        {
          "output_type": "stream",
          "name": "stdout",
          "text": [
            "ethnicity_race_sex                                                     \n",
            "not hispanic or latino_white_male                                          126540\n",
            "not hispanic or latino_white_female                                         84557\n",
            "not hispanic or latino_black or african american_female                     27181\n",
            "not hispanic or latino_black or african american_male                       22053\n",
            "hispanic or latino_white_male                                               17879\n",
            "not hispanic or latino_asian_male                                           13608\n",
            "hispanic or latino_white_female                                             11132\n",
            "not hispanic or latino_asian_female                                          8975\n",
            "not hispanic or latino_american indian or alaska native_male                 1116\n",
            "hispanic or latino_black or african american_male                             937\n",
            "not hispanic or latino_native hawaiian or other pacific islander_male         922\n",
            "hispanic or latino_black or african american_female                           873\n",
            "not hispanic or latino_native hawaiian or other pacific islander_female       741\n",
            "not hispanic or latino_american indian or alaska native_female                725\n",
            "hispanic or latino_native hawaiian or other pacific islander_male             436\n",
            "hispanic or latino_american indian or alaska native_male                      385\n",
            "hispanic or latino_native hawaiian or other pacific islander_female           242\n",
            "hispanic or latino_american indian or alaska native_female                    241\n",
            "hispanic or latino_asian_male                                                 175\n",
            "hispanic or latino_asian_female                                               123\n",
            "Name: count, dtype: int64\n"
          ]
        }
      ],
      "source": [
        "# Creation of ethnicity_race_sex column:\n",
        "df['ethnicity_race_sex'] = df['applicant_ethnicity_name'].str.lower() + \"_\" + df['applicant_race_name_1'].str.lower() + \"_\" + df['applicant_sex_name'].str.lower()\n",
        "\n",
        "# Checking column created\n",
        "print(df[['ethnicity_race_sex']].value_counts())"
      ]
    },
    {
      "cell_type": "markdown",
      "source": [
        "## B) Feature selection"
      ],
      "metadata": {
        "id": "JrxmVPEqVZcR"
      }
    },
    {
      "cell_type": "code",
      "source": [
        "df = df[[\n",
        "    \"loan_type_name\",\n",
        "    \"property_type_name\",\n",
        "    \"loan_purpose_name\",\n",
        "    \"loan_amount_000s\",\n",
        "    \"action_taken_name\",\n",
        "    \"msamd_name\",\n",
        "    \"census_tract_number\",\n",
        "    \"hoepa_status_name\",\n",
        "    \"applicant_ethnicity_name\",\n",
        "    \"applicant_race_name_1\",\n",
        "    \"applicant_sex_name\",\n",
        "    \"applicant_income_000s\",\n",
        "    \"denial_reason_name_1\",\n",
        "    \"rate_spread\",\n",
        "    \"lien_status_name\",\n",
        "    \"hud_median_family_income\",\n",
        "    \"tract_to_msamd_income\",\n",
        "    \"minority_population\",\n",
        "    \"number_of_owner_occupied_units\"\n",
        "]]"
      ],
      "metadata": {
        "id": "2KfvglAkVnd8"
      },
      "execution_count": 66,
      "outputs": []
    },
    {
      "cell_type": "markdown",
      "metadata": {
        "id": "krvMZVrLbE4T"
      },
      "source": [
        "# Commit to GitHub\n",
        "\n",
        "\n",
        "The code below will help us to commit our project onto GitHub:\n",
        "\n"
      ]
    },
    {
      "cell_type": "code",
      "execution_count": 67,
      "metadata": {
        "id": "D4bEkPiTnnkJ"
      },
      "outputs": [],
      "source": [
        "os.chdir(\"/content/drive/My Drive/Colab Notebooks/hmda_ny_2007_preprocessing/\") #First we call our project's location using we use os.chdir() instead of %cd because\n",
        "                                                                                #the first option is the better choice for code that needs to be portable and run in different environments\n",
        "                                                                                #and we are trying to replicate a working environment.\n",
        "\n",
        "#Source: https://www.tutorialspoint.com/python/os_chdir.htm"
      ]
    },
    {
      "cell_type": "code",
      "execution_count": 68,
      "metadata": {
        "colab": {
          "base_uri": "https://localhost:8080/"
        },
        "id": "-ZDKHGHTOojc",
        "outputId": "8f053902-26a4-4934-a4fe-857407f5d701"
      },
      "outputs": [
        {
          "output_type": "stream",
          "name": "stdout",
          "text": [
            "On branch master\n",
            "Changes not staged for commit:\n",
            "  (use \"git add <file>...\" to update what will be committed)\n",
            "  (use \"git restore <file>...\" to discard changes in working directory)\n",
            "\tmodified:   ny-2007-data-preprocesing.ipynb\n",
            "\n",
            "no changes added to commit (use \"git add\" and/or \"git commit -a\")\n",
            "\n",
            "\n"
          ]
        }
      ],
      "source": [
        "#We use subprocess.run([\"git\", \"status\"]) instead of \"!git status\" (Google Colab) for a PEP-8.\n",
        "result = subprocess.run([\"git\", \"status\"], capture_output=True, text=True) # The following helps us to \"capture the results\"; capture_output=True, text=True\n",
        "\n",
        "print(result.stdout)  # Print the status message\n",
        "print(result.stderr)  # Print errors if there are any."
      ]
    },
    {
      "cell_type": "code",
      "execution_count": 69,
      "metadata": {
        "colab": {
          "base_uri": "https://localhost:8080/"
        },
        "id": "T2OlVWPnBrvh",
        "outputId": "f119dfd4-6804-406c-d9b1-b0b1000caf48"
      },
      "outputs": [
        {
          "output_type": "execute_result",
          "data": {
            "text/plain": [
              "CompletedProcess(args=['git', 'add', '.'], returncode=0)"
            ]
          },
          "metadata": {},
          "execution_count": 69
        }
      ],
      "source": [
        "subprocess.run([\"git\", \"add\", \".\"], check=True) #!git add . |/| We use \"check=True\" to ensure that if there are any error, they will be shown."
      ]
    },
    {
      "cell_type": "code",
      "execution_count": 70,
      "metadata": {
        "colab": {
          "base_uri": "https://localhost:8080/"
        },
        "id": "OZl5ETWmwSky",
        "outputId": "53b0cba5-115d-4c81-c985-7f1a7361fe4f"
      },
      "outputs": [
        {
          "output_type": "execute_result",
          "data": {
            "text/plain": [
              "CompletedProcess(args=['git', 'commit', '-m', 'Updating-20:00-25032025'], returncode=0)"
            ]
          },
          "metadata": {},
          "execution_count": 70
        }
      ],
      "source": [
        "subprocess.run([\"git\", \"commit\", \"-m\", \"Updating-20:00-25032025\"], check=True) #Google Colab: !git commit -m \"Updating\""
      ]
    },
    {
      "cell_type": "code",
      "execution_count": 71,
      "metadata": {
        "id": "0vN4aALpQsKn"
      },
      "outputs": [],
      "source": [
        "# ERROR, NEED TO FIX: subprocess.run([\"git\", \"push\", \"origin\", \"master\"], check=True) #!git push origin main #gave error, solution !git config --global credential.helper store"
      ]
    },
    {
      "cell_type": "code",
      "execution_count": 72,
      "metadata": {
        "colab": {
          "base_uri": "https://localhost:8080/"
        },
        "id": "tiEbFXcNMluJ",
        "outputId": "6d1e2d27-ffa5-47d5-a9ac-f8b8ff603bd9"
      },
      "outputs": [
        {
          "output_type": "execute_result",
          "data": {
            "text/plain": [
              "CompletedProcess(args=['git', 'branch'], returncode=0)"
            ]
          },
          "metadata": {},
          "execution_count": 72
        }
      ],
      "source": [
        "subprocess.run(args=['git', 'branch'], check=True)\n"
      ]
    },
    {
      "cell_type": "code",
      "execution_count": 73,
      "metadata": {
        "id": "v7SjjMcjyd8o",
        "colab": {
          "base_uri": "https://localhost:8080/"
        },
        "outputId": "25a25ee0-9269-4c96-8e44-538494f6deb9"
      },
      "outputs": [
        {
          "output_type": "stream",
          "name": "stdout",
          "text": [
            "commit b634770840aeef42541923b3a696df643704102c\n",
            "Author: AJLR888 <roldan.analytics@gmail.com>\n",
            "Date:   Sun Mar 30 10:19:59 2025 +0000\n",
            "\n",
            "    Updating-20:00-25032025\n",
            "\n",
            "commit 8ae74f3ea231ed1cc166a47a3ce92cc78cb2469d\n",
            "Author: AJLR888 <roldan.analytics@gmail.com>\n",
            "Date:   Sun Mar 30 09:43:33 2025 +0000\n",
            "\n",
            "    Updating-20:00-25032025\n",
            "\n",
            "commit 22f14bb8dd2143947c156433309f96c7048974f4\n",
            "Author: AJLR888 <roldan.analytics@gmail.com>\n",
            "Date:   Mon Mar 24 20:21:10 2025 +0000\n",
            "\n",
            "    Updating-20:19-24032025\n",
            "\n",
            "commit c7fad8581585547c97e2d4d0653c80278f40d5b0\n",
            "Author: AJLR888 <roldan.analytics@gmail.com>\n",
            "Date:   Mon Mar 24 17:57:19 2025 +0000\n",
            "\n",
            "    Updating-08:40-21032025\n",
            "\n",
            "commit 3c9d2766364bfb3617c9a311742c26f18461db5e\n",
            "Author: AJLR888 <roldan.analytics@gmail.com>\n",
            "Date:   Sun Mar 16 10:21:19 2025 +0000\n",
            "\n",
            "    Updating10:20-16032025\n",
            "\n",
            "commit 7a277871e6a4326cefb4c4e12992b04615fdbb6d\n",
            "Author: AJLR888 <roldan.analytics@gmail.com>\n",
            "Date:   Sun Mar 16 10:19:04 2025 +0000\n",
            "\n",
            "    Updating1412-15032025\n",
            "\n",
            "commit c75bc5b5e448ae2ddf6b9a1baf0728a665f3131f\n",
            "Author: AJLR888 <roldan.analytics@gmail.com>\n",
            "Date:   Sat Mar 15 14:29:55 2025 +0000\n",
            "\n",
            "    Updating1412-15032025\n",
            "\n",
            "commit f81fdc41532adddf2127dc0d8edd32302a439d01\n",
            "Author: AJLR888 <roldan.analytics@gmail.com>\n",
            "Date:   Sat Mar 15 14:28:42 2025 +0000\n",
            "\n",
            "    Updating1412-15032025\n",
            "\n",
            "commit d26c1d090a36da8442dc879eccc1c4a8093ec5de\n",
            "Author: AJLR888 <roldan.analytics@gmail.com>\n",
            "Date:   Sat Mar 15 14:21:27 2025 +0000\n",
            "\n",
            "    Updating1412-15032025\n",
            "\n",
            "commit b8344c24bb282514801ae50f97da54795668f2b3\n",
            "Author: AJLR888 <roldan.analytics@gmail.com>\n",
            "Date:   Sat Mar 15 14:18:28 2025 +0000\n",
            "\n",
            "    Updating1412-15032025\n",
            "\n",
            "commit e4643bc991934b6589d40ae8770748ee8d5f7069\n",
            "Author: AJLR888 <roldan.analytics@gmail.com>\n",
            "Date:   Sat Mar 15 14:14:14 2025 +0000\n",
            "\n",
            "    Force pushing after reinitializing repository\n",
            "\n",
            "commit 86dfbcbb6329ea9463d38068dc9fcdccf204bc99\n",
            "Author: AJLR888 <roldan.analytics@gmail.com>\n",
            "Date:   Sat Mar 15 14:12:35 2025 +0000\n",
            "\n",
            "    Updating1412-15032025\n",
            "\n",
            "commit d38a61973dfd046de8599116b795d9e743730e5b\n",
            "Author: AJLR888 <roldan.analytics@gmail.com>\n",
            "Date:   Sat Mar 15 14:05:21 2025 +0000\n",
            "\n",
            "    Updating\n",
            "\n",
            "\n"
          ]
        }
      ],
      "source": [
        "logStatus = subprocess.run([\"git\", \"log\"], capture_output=True, text=True, check=True) #Google Colab: !git log\n",
        "print(logStatus.stdout) #Shows output\n",
        "print(logStatus.stderr) #Shows errors"
      ]
    }
  ],
  "metadata": {
    "colab": {
      "collapsed_sections": [
        "pTVcDhMaXEdL",
        "GyNXlMIp2J9_",
        "iDwfgvY3SfwR",
        "i5-0VTy_pFwb"
      ],
      "provenance": [],
      "authorship_tag": "ABX9TyPD9OjXp+7rMw5X11wlfUer",
      "include_colab_link": true
    },
    "kernelspec": {
      "display_name": "Python 3",
      "name": "python3"
    },
    "language_info": {
      "name": "python"
    }
  },
  "nbformat": 4,
  "nbformat_minor": 0
}